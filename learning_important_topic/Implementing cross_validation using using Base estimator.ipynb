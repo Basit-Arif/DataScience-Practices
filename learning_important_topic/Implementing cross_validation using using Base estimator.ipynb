{
 "cells": [
  {
   "cell_type": "code",
   "execution_count": 40,
   "id": "7e517c67",
   "metadata": {},
   "outputs": [],
   "source": [
    "from sklearn.datasets import fetch_openml\n",
    "import pandas as pd\n",
    "from sklearn.base import clone\n",
    "from sklearn.model_selection import StratifiedKFold\n",
    "from sklearn.linear_model import SGDClassifier"
   ]
  },
  {
   "cell_type": "code",
   "execution_count": 2,
   "id": "54a8448e",
   "metadata": {},
   "outputs": [],
   "source": [
    "data=fetch_openml(\"mnist_784\",version=1) ###importing the mnist dataset"
   ]
  },
  {
   "cell_type": "code",
   "execution_count": 22,
   "id": "1e92c1d2",
   "metadata": {},
   "outputs": [],
   "source": [
    "X,y=data.data.values,data.target ### In X there will be the feature of mnist data(like pixel of one,two till ten) and in Y there will be the name of target featue "
   ]
  },
  {
   "cell_type": "code",
   "execution_count": 23,
   "id": "90f2fc10",
   "metadata": {},
   "outputs": [
    {
     "data": {
      "text/plain": [
       "((70000, 784), (70000,))"
      ]
     },
     "execution_count": 23,
     "metadata": {},
     "output_type": "execute_result"
    }
   ],
   "source": [
    "X.shape,y.shape ### X have 70000 instance with each have 784 feature,while the Y will only have 70000 rows having a target name only "
   ]
  },
  {
   "cell_type": "code",
   "execution_count": 29,
   "id": "0c3c6009",
   "metadata": {},
   "outputs": [],
   "source": [
    "X1=X[:10000] ##first 10000 instance for intuition\n",
    "y1=y[:10000]"
   ]
  },
  {
   "cell_type": "code",
   "execution_count": 24,
   "id": "755e725d",
   "metadata": {},
   "outputs": [],
   "source": [
    "splits = StratifiedKFold(n_splits=3) ## its create a instance which divides the instance into 3 folds with equal size of target feature"
   ]
  },
  {
   "cell_type": "code",
   "execution_count": 41,
   "id": "68c6ce93",
   "metadata": {},
   "outputs": [],
   "source": [
    "sgd_classsifer=SGDClassifier(random_state=42) ##linear classifier"
   ]
  },
  {
   "cell_type": "code",
   "execution_count": 43,
   "id": "fda5c582",
   "metadata": {},
   "outputs": [
    {
     "name": "stdout",
     "output_type": "stream",
     "text": [
      "0.8659268146370726\n",
      "0.8697869786978698\n",
      "0.8544854485448545\n"
     ]
    }
   ],
   "source": [
    "for train_index,test_index in splits.split(X1,y1):\n",
    "    clone_clf=clone(sgd_classsifer) ## every time it create a deep copy of classifer without actually copying the attached data ,\n",
    "                                    ##it yeild the new estimator with same parameter \n",
    "    X_train_fold=X1[train_index]\n",
    "    y_train_folds=y1[train_index]\n",
    "    X_test_fold=X1[test_index]\n",
    "    y_test_fold=y1[test_index] \n",
    "    \n",
    "    clone_clf.fit(X_train_fold,y_train_folds)\n",
    "    Y_predict=clone_clf.predict(X_test_fold)\n",
    "    n_correct=sum(y_test_fold==Y_predict)\n",
    "    print(n_correct/len(Y_predict))"
   ]
  },
  {
   "cell_type": "markdown",
   "id": "69798299",
   "metadata": {},
   "source": [
    "###### wow you create your first clone "
   ]
  },
  {
   "cell_type": "code",
   "execution_count": null,
   "id": "49e142e1",
   "metadata": {},
   "outputs": [],
   "source": []
  }
 ],
 "metadata": {
  "kernelspec": {
   "display_name": "Python 3",
   "language": "python",
   "name": "python3"
  },
  "language_info": {
   "codemirror_mode": {
    "name": "ipython",
    "version": 3
   },
   "file_extension": ".py",
   "mimetype": "text/x-python",
   "name": "python",
   "nbconvert_exporter": "python",
   "pygments_lexer": "ipython3",
   "version": "3.8.8"
  }
 },
 "nbformat": 4,
 "nbformat_minor": 5
}
