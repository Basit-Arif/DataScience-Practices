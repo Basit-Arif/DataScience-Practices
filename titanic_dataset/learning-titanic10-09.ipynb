{
 "cells": [
  {
   "cell_type": "markdown",
   "id": "4471be60",
   "metadata": {
    "papermill": {
     "duration": 0.044536,
     "end_time": "2021-09-28T21:04:22.946051",
     "exception": false,
     "start_time": "2021-09-28T21:04:22.901515",
     "status": "completed"
    },
    "tags": []
   },
   "source": [
    "> # **To classify the passenger (whether they survived or not) we have to do the following step for the better understanding**\n",
    "\n",
    "* Exploring the data \n",
    "* Exploratory data Analysis\n",
    "* Decision Making(feature extraction and feature selection)\n",
    "* Data Cleaning & Missing data handling \n",
    "* Preparing the Data\n",
    "* Machine learning model"
   ]
  },
  {
   "cell_type": "markdown",
   "id": "f9dba853",
   "metadata": {
    "papermill": {
     "duration": 0.043047,
     "end_time": "2021-09-28T21:04:23.034172",
     "exception": false,
     "start_time": "2021-09-28T21:04:22.991125",
     "status": "completed"
    },
    "tags": []
   },
   "source": [
    " >  >  **DONT FORGET TO UPVOTE THE NOTEBOOK** "
   ]
  },
  {
   "cell_type": "markdown",
   "id": "42c7e983",
   "metadata": {
    "papermill": {
     "duration": 0.042503,
     "end_time": "2021-09-28T21:04:23.122086",
     "exception": false,
     "start_time": "2021-09-28T21:04:23.079583",
     "status": "completed"
    },
    "tags": []
   },
   "source": [
    "**Important libraries for data visualization , data analysis and classification**"
   ]
  },
  {
   "cell_type": "code",
   "execution_count": 1,
   "id": "a7c82e45",
   "metadata": {
    "execution": {
     "iopub.execute_input": "2021-09-28T21:04:23.210804Z",
     "iopub.status.busy": "2021-09-28T21:04:23.209631Z",
     "iopub.status.idle": "2021-09-28T21:04:24.304920Z",
     "shell.execute_reply": "2021-09-28T21:04:24.303597Z",
     "shell.execute_reply.started": "2021-09-28T20:57:29.442478Z"
    },
    "papermill": {
     "duration": 1.139842,
     "end_time": "2021-09-28T21:04:24.305117",
     "exception": false,
     "start_time": "2021-09-28T21:04:23.165275",
     "status": "completed"
    },
    "tags": []
   },
   "outputs": [],
   "source": [
    "import pandas as pd\n",
    "import numpy as np\n",
    "import seaborn as sns\n",
    "import matplotlib.pyplot as plt\n",
    "%matplotlib inline\n",
    "# import sklearn."
   ]
  },
  {
   "cell_type": "markdown",
   "id": "d607761b",
   "metadata": {
    "papermill": {
     "duration": 0.039233,
     "end_time": "2021-09-28T21:04:24.384326",
     "exception": false,
     "start_time": "2021-09-28T21:04:24.345093",
     "status": "completed"
    },
    "tags": []
   },
   "source": []
  },
  {
   "cell_type": "code",
   "execution_count": 2,
   "id": "f5ec6999",
   "metadata": {
    "execution": {
     "iopub.execute_input": "2021-09-28T21:04:24.468224Z",
     "iopub.status.busy": "2021-09-28T21:04:24.467602Z",
     "iopub.status.idle": "2021-09-28T21:04:24.505159Z",
     "shell.execute_reply": "2021-09-28T21:04:24.505607Z",
     "shell.execute_reply.started": "2021-09-28T20:57:29.759001Z"
    },
    "papermill": {
     "duration": 0.081733,
     "end_time": "2021-09-28T21:04:24.505784",
     "exception": false,
     "start_time": "2021-09-28T21:04:24.424051",
     "status": "completed"
    },
    "tags": []
   },
   "outputs": [],
   "source": [
    "train = pd.read_csv(\"../input/titanic/train.csv\",index_col=False) #calling the training data\n",
    "test=pd.read_csv(\"../input/titanic/test.csv\",index_col=False) #calling the test data \n",
    "dataset=[train,test] # merging the train and test data into dataset variable "
   ]
  },
  {
   "cell_type": "code",
   "execution_count": 3,
   "id": "64210fce",
   "metadata": {
    "execution": {
     "iopub.execute_input": "2021-09-28T21:04:24.593896Z",
     "iopub.status.busy": "2021-09-28T21:04:24.593269Z",
     "iopub.status.idle": "2021-09-28T21:04:24.620595Z",
     "shell.execute_reply": "2021-09-28T21:04:24.621074Z",
     "shell.execute_reply.started": "2021-09-28T20:57:29.922676Z"
    },
    "papermill": {
     "duration": 0.074041,
     "end_time": "2021-09-28T21:04:24.621246",
     "exception": false,
     "start_time": "2021-09-28T21:04:24.547205",
     "status": "completed"
    },
    "tags": []
   },
   "outputs": [
    {
     "name": "stdout",
     "output_type": "stream",
     "text": [
      "<class 'pandas.core.frame.DataFrame'>\n",
      "RangeIndex: 891 entries, 0 to 890\n",
      "Data columns (total 12 columns):\n",
      " #   Column       Non-Null Count  Dtype  \n",
      "---  ------       --------------  -----  \n",
      " 0   PassengerId  891 non-null    int64  \n",
      " 1   Survived     891 non-null    int64  \n",
      " 2   Pclass       891 non-null    int64  \n",
      " 3   Name         891 non-null    object \n",
      " 4   Sex          891 non-null    object \n",
      " 5   Age          714 non-null    float64\n",
      " 6   SibSp        891 non-null    int64  \n",
      " 7   Parch        891 non-null    int64  \n",
      " 8   Ticket       891 non-null    object \n",
      " 9   Fare         891 non-null    float64\n",
      " 10  Cabin        204 non-null    object \n",
      " 11  Embarked     889 non-null    object \n",
      "dtypes: float64(2), int64(5), object(5)\n",
      "memory usage: 83.7+ KB\n"
     ]
    }
   ],
   "source": [
    "train.info()"
   ]
  },
  {
   "cell_type": "markdown",
   "id": "aa45ec1c",
   "metadata": {
    "execution": {
     "iopub.execute_input": "2021-09-27T14:52:51.999951Z",
     "iopub.status.busy": "2021-09-27T14:52:51.999121Z",
     "iopub.status.idle": "2021-09-27T14:52:52.045788Z",
     "shell.execute_reply": "2021-09-27T14:52:52.044629Z",
     "shell.execute_reply.started": "2021-09-27T14:52:51.999911Z"
    },
    "papermill": {
     "duration": 0.041665,
     "end_time": "2021-09-28T21:04:24.705489",
     "exception": false,
     "start_time": "2021-09-28T21:04:24.663824",
     "status": "completed"
    },
    "tags": []
   },
   "source": [
    "By seeing the info \n",
    "**Now we knew some important thing** \n",
    "1.  As we can see there are null values in Cabin and Age\n",
    "\n",
    "2.  Our data have different types values \n",
    "\n",
    "    * {PassengerId,Survived,Pclass,Age,SibSp,Parch,Fare} -> are numerical\n",
    "    \n",
    "    * {Name,Sex,Ticket,Cabin,Embarked} -> are categorical\n",
    "    \n",
    "3. Some feature are unnecessary like \n",
    "\n",
    "    * {PassengerID -> because it doesnot mean anything\n",
    "    \n",
    "    * {Name -> it doesnot mean anything untill and unlees there is a title in it \n",
    "    \n",
    "    * {Ticket -> itself it object dtype but we will convert it to numerical and find the pattern \n",
    "    \n",
    "    * {Cabin -> most of the values are null (that means they dont have separate cabin )\n"
   ]
  },
  {
   "cell_type": "code",
   "execution_count": 4,
   "id": "cede9436",
   "metadata": {
    "execution": {
     "iopub.execute_input": "2021-09-28T21:04:24.792250Z",
     "iopub.status.busy": "2021-09-28T21:04:24.791625Z",
     "iopub.status.idle": "2021-09-28T21:04:24.815790Z",
     "shell.execute_reply": "2021-09-28T21:04:24.815220Z",
     "shell.execute_reply.started": "2021-09-28T20:57:30.237400Z"
    },
    "papermill": {
     "duration": 0.069414,
     "end_time": "2021-09-28T21:04:24.815943",
     "exception": false,
     "start_time": "2021-09-28T21:04:24.746529",
     "status": "completed"
    },
    "tags": []
   },
   "outputs": [
    {
     "data": {
      "text/html": [
       "<div>\n",
       "<style scoped>\n",
       "    .dataframe tbody tr th:only-of-type {\n",
       "        vertical-align: middle;\n",
       "    }\n",
       "\n",
       "    .dataframe tbody tr th {\n",
       "        vertical-align: top;\n",
       "    }\n",
       "\n",
       "    .dataframe thead th {\n",
       "        text-align: right;\n",
       "    }\n",
       "</style>\n",
       "<table border=\"1\" class=\"dataframe\">\n",
       "  <thead>\n",
       "    <tr style=\"text-align: right;\">\n",
       "      <th></th>\n",
       "      <th>PassengerId</th>\n",
       "      <th>Survived</th>\n",
       "      <th>Pclass</th>\n",
       "      <th>Name</th>\n",
       "      <th>Sex</th>\n",
       "      <th>Age</th>\n",
       "      <th>SibSp</th>\n",
       "      <th>Parch</th>\n",
       "      <th>Ticket</th>\n",
       "      <th>Fare</th>\n",
       "      <th>Cabin</th>\n",
       "      <th>Embarked</th>\n",
       "    </tr>\n",
       "  </thead>\n",
       "  <tbody>\n",
       "    <tr>\n",
       "      <th>0</th>\n",
       "      <td>1</td>\n",
       "      <td>0</td>\n",
       "      <td>3</td>\n",
       "      <td>Braund, Mr. Owen Harris</td>\n",
       "      <td>male</td>\n",
       "      <td>22.0</td>\n",
       "      <td>1</td>\n",
       "      <td>0</td>\n",
       "      <td>A/5 21171</td>\n",
       "      <td>7.2500</td>\n",
       "      <td>NaN</td>\n",
       "      <td>S</td>\n",
       "    </tr>\n",
       "    <tr>\n",
       "      <th>1</th>\n",
       "      <td>2</td>\n",
       "      <td>1</td>\n",
       "      <td>1</td>\n",
       "      <td>Cumings, Mrs. John Bradley (Florence Briggs Th...</td>\n",
       "      <td>female</td>\n",
       "      <td>38.0</td>\n",
       "      <td>1</td>\n",
       "      <td>0</td>\n",
       "      <td>PC 17599</td>\n",
       "      <td>71.2833</td>\n",
       "      <td>C85</td>\n",
       "      <td>C</td>\n",
       "    </tr>\n",
       "    <tr>\n",
       "      <th>2</th>\n",
       "      <td>3</td>\n",
       "      <td>1</td>\n",
       "      <td>3</td>\n",
       "      <td>Heikkinen, Miss. Laina</td>\n",
       "      <td>female</td>\n",
       "      <td>26.0</td>\n",
       "      <td>0</td>\n",
       "      <td>0</td>\n",
       "      <td>STON/O2. 3101282</td>\n",
       "      <td>7.9250</td>\n",
       "      <td>NaN</td>\n",
       "      <td>S</td>\n",
       "    </tr>\n",
       "    <tr>\n",
       "      <th>3</th>\n",
       "      <td>4</td>\n",
       "      <td>1</td>\n",
       "      <td>1</td>\n",
       "      <td>Futrelle, Mrs. Jacques Heath (Lily May Peel)</td>\n",
       "      <td>female</td>\n",
       "      <td>35.0</td>\n",
       "      <td>1</td>\n",
       "      <td>0</td>\n",
       "      <td>113803</td>\n",
       "      <td>53.1000</td>\n",
       "      <td>C123</td>\n",
       "      <td>S</td>\n",
       "    </tr>\n",
       "    <tr>\n",
       "      <th>4</th>\n",
       "      <td>5</td>\n",
       "      <td>0</td>\n",
       "      <td>3</td>\n",
       "      <td>Allen, Mr. William Henry</td>\n",
       "      <td>male</td>\n",
       "      <td>35.0</td>\n",
       "      <td>0</td>\n",
       "      <td>0</td>\n",
       "      <td>373450</td>\n",
       "      <td>8.0500</td>\n",
       "      <td>NaN</td>\n",
       "      <td>S</td>\n",
       "    </tr>\n",
       "  </tbody>\n",
       "</table>\n",
       "</div>"
      ],
      "text/plain": [
       "   PassengerId  Survived  Pclass  \\\n",
       "0            1         0       3   \n",
       "1            2         1       1   \n",
       "2            3         1       3   \n",
       "3            4         1       1   \n",
       "4            5         0       3   \n",
       "\n",
       "                                                Name     Sex   Age  SibSp  \\\n",
       "0                            Braund, Mr. Owen Harris    male  22.0      1   \n",
       "1  Cumings, Mrs. John Bradley (Florence Briggs Th...  female  38.0      1   \n",
       "2                             Heikkinen, Miss. Laina  female  26.0      0   \n",
       "3       Futrelle, Mrs. Jacques Heath (Lily May Peel)  female  35.0      1   \n",
       "4                           Allen, Mr. William Henry    male  35.0      0   \n",
       "\n",
       "   Parch            Ticket     Fare Cabin Embarked  \n",
       "0      0         A/5 21171   7.2500   NaN        S  \n",
       "1      0          PC 17599  71.2833   C85        C  \n",
       "2      0  STON/O2. 3101282   7.9250   NaN        S  \n",
       "3      0            113803  53.1000  C123        S  \n",
       "4      0            373450   8.0500   NaN        S  "
      ]
     },
     "execution_count": 4,
     "metadata": {},
     "output_type": "execute_result"
    }
   ],
   "source": [
    "train.head()"
   ]
  },
  {
   "cell_type": "markdown",
   "id": "56ef9234",
   "metadata": {
    "papermill": {
     "duration": 0.041044,
     "end_time": "2021-09-28T21:04:24.897646",
     "exception": false,
     "start_time": "2021-09-28T21:04:24.856602",
     "status": "completed"
    },
    "tags": []
   },
   "source": [
    "> # **Describing the Numerical Data**"
   ]
  },
  {
   "cell_type": "code",
   "execution_count": 5,
   "id": "e0979c14",
   "metadata": {
    "execution": {
     "iopub.execute_input": "2021-09-28T21:04:24.985233Z",
     "iopub.status.busy": "2021-09-28T21:04:24.984315Z",
     "iopub.status.idle": "2021-09-28T21:04:25.024155Z",
     "shell.execute_reply": "2021-09-28T21:04:25.023391Z",
     "shell.execute_reply.started": "2021-09-28T20:57:30.553458Z"
    },
    "papermill": {
     "duration": 0.085511,
     "end_time": "2021-09-28T21:04:25.024315",
     "exception": false,
     "start_time": "2021-09-28T21:04:24.938804",
     "status": "completed"
    },
    "tags": []
   },
   "outputs": [
    {
     "data": {
      "text/html": [
       "<div>\n",
       "<style scoped>\n",
       "    .dataframe tbody tr th:only-of-type {\n",
       "        vertical-align: middle;\n",
       "    }\n",
       "\n",
       "    .dataframe tbody tr th {\n",
       "        vertical-align: top;\n",
       "    }\n",
       "\n",
       "    .dataframe thead th {\n",
       "        text-align: right;\n",
       "    }\n",
       "</style>\n",
       "<table border=\"1\" class=\"dataframe\">\n",
       "  <thead>\n",
       "    <tr style=\"text-align: right;\">\n",
       "      <th></th>\n",
       "      <th>PassengerId</th>\n",
       "      <th>Survived</th>\n",
       "      <th>Pclass</th>\n",
       "      <th>Age</th>\n",
       "      <th>SibSp</th>\n",
       "      <th>Parch</th>\n",
       "      <th>Fare</th>\n",
       "    </tr>\n",
       "  </thead>\n",
       "  <tbody>\n",
       "    <tr>\n",
       "      <th>count</th>\n",
       "      <td>891.000000</td>\n",
       "      <td>891.000000</td>\n",
       "      <td>891.000000</td>\n",
       "      <td>714.000000</td>\n",
       "      <td>891.000000</td>\n",
       "      <td>891.000000</td>\n",
       "      <td>891.000000</td>\n",
       "    </tr>\n",
       "    <tr>\n",
       "      <th>mean</th>\n",
       "      <td>446.000000</td>\n",
       "      <td>0.383838</td>\n",
       "      <td>2.308642</td>\n",
       "      <td>29.699118</td>\n",
       "      <td>0.523008</td>\n",
       "      <td>0.381594</td>\n",
       "      <td>32.204208</td>\n",
       "    </tr>\n",
       "    <tr>\n",
       "      <th>std</th>\n",
       "      <td>257.353842</td>\n",
       "      <td>0.486592</td>\n",
       "      <td>0.836071</td>\n",
       "      <td>14.526497</td>\n",
       "      <td>1.102743</td>\n",
       "      <td>0.806057</td>\n",
       "      <td>49.693429</td>\n",
       "    </tr>\n",
       "    <tr>\n",
       "      <th>min</th>\n",
       "      <td>1.000000</td>\n",
       "      <td>0.000000</td>\n",
       "      <td>1.000000</td>\n",
       "      <td>0.420000</td>\n",
       "      <td>0.000000</td>\n",
       "      <td>0.000000</td>\n",
       "      <td>0.000000</td>\n",
       "    </tr>\n",
       "    <tr>\n",
       "      <th>25%</th>\n",
       "      <td>223.500000</td>\n",
       "      <td>0.000000</td>\n",
       "      <td>2.000000</td>\n",
       "      <td>20.125000</td>\n",
       "      <td>0.000000</td>\n",
       "      <td>0.000000</td>\n",
       "      <td>7.910400</td>\n",
       "    </tr>\n",
       "    <tr>\n",
       "      <th>50%</th>\n",
       "      <td>446.000000</td>\n",
       "      <td>0.000000</td>\n",
       "      <td>3.000000</td>\n",
       "      <td>28.000000</td>\n",
       "      <td>0.000000</td>\n",
       "      <td>0.000000</td>\n",
       "      <td>14.454200</td>\n",
       "    </tr>\n",
       "    <tr>\n",
       "      <th>75%</th>\n",
       "      <td>668.500000</td>\n",
       "      <td>1.000000</td>\n",
       "      <td>3.000000</td>\n",
       "      <td>38.000000</td>\n",
       "      <td>1.000000</td>\n",
       "      <td>0.000000</td>\n",
       "      <td>31.000000</td>\n",
       "    </tr>\n",
       "    <tr>\n",
       "      <th>max</th>\n",
       "      <td>891.000000</td>\n",
       "      <td>1.000000</td>\n",
       "      <td>3.000000</td>\n",
       "      <td>80.000000</td>\n",
       "      <td>8.000000</td>\n",
       "      <td>6.000000</td>\n",
       "      <td>512.329200</td>\n",
       "    </tr>\n",
       "  </tbody>\n",
       "</table>\n",
       "</div>"
      ],
      "text/plain": [
       "       PassengerId    Survived      Pclass         Age       SibSp  \\\n",
       "count   891.000000  891.000000  891.000000  714.000000  891.000000   \n",
       "mean    446.000000    0.383838    2.308642   29.699118    0.523008   \n",
       "std     257.353842    0.486592    0.836071   14.526497    1.102743   \n",
       "min       1.000000    0.000000    1.000000    0.420000    0.000000   \n",
       "25%     223.500000    0.000000    2.000000   20.125000    0.000000   \n",
       "50%     446.000000    0.000000    3.000000   28.000000    0.000000   \n",
       "75%     668.500000    1.000000    3.000000   38.000000    1.000000   \n",
       "max     891.000000    1.000000    3.000000   80.000000    8.000000   \n",
       "\n",
       "            Parch        Fare  \n",
       "count  891.000000  891.000000  \n",
       "mean     0.381594   32.204208  \n",
       "std      0.806057   49.693429  \n",
       "min      0.000000    0.000000  \n",
       "25%      0.000000    7.910400  \n",
       "50%      0.000000   14.454200  \n",
       "75%      0.000000   31.000000  \n",
       "max      6.000000  512.329200  "
      ]
     },
     "execution_count": 5,
     "metadata": {},
     "output_type": "execute_result"
    }
   ],
   "source": [
    "train.describe(exclude=[\"O\"])"
   ]
  },
  {
   "cell_type": "markdown",
   "id": "dfef1c8e",
   "metadata": {
    "papermill": {
     "duration": 0.043603,
     "end_time": "2021-09-28T21:04:25.110542",
     "exception": false,
     "start_time": "2021-09-28T21:04:25.066939",
     "status": "completed"
    },
    "tags": []
   },
   "source": [
    "> **NOTE:**\n",
    "> *    Parch means -> number of parents / children aboard the Titanic\n",
    "> *    SibSp means -> Number of Siblings / Spouses Aboard"
   ]
  },
  {
   "cell_type": "markdown",
   "id": "5a0dc34d",
   "metadata": {
    "papermill": {
     "duration": 0.041578,
     "end_time": "2021-09-28T21:04:25.197567",
     "exception": false,
     "start_time": "2021-09-28T21:04:25.155989",
     "status": "completed"
    },
    "tags": []
   },
   "source": [
    "> # **Describe the Categorical Data**"
   ]
  },
  {
   "cell_type": "code",
   "execution_count": 6,
   "id": "8d286389",
   "metadata": {
    "execution": {
     "iopub.execute_input": "2021-09-28T21:04:25.306739Z",
     "iopub.status.busy": "2021-09-28T21:04:25.294692Z",
     "iopub.status.idle": "2021-09-28T21:04:25.309037Z",
     "shell.execute_reply": "2021-09-28T21:04:25.309505Z",
     "shell.execute_reply.started": "2021-09-28T20:57:30.987833Z"
    },
    "papermill": {
     "duration": 0.067251,
     "end_time": "2021-09-28T21:04:25.309694",
     "exception": false,
     "start_time": "2021-09-28T21:04:25.242443",
     "status": "completed"
    },
    "tags": []
   },
   "outputs": [
    {
     "data": {
      "text/html": [
       "<div>\n",
       "<style scoped>\n",
       "    .dataframe tbody tr th:only-of-type {\n",
       "        vertical-align: middle;\n",
       "    }\n",
       "\n",
       "    .dataframe tbody tr th {\n",
       "        vertical-align: top;\n",
       "    }\n",
       "\n",
       "    .dataframe thead th {\n",
       "        text-align: right;\n",
       "    }\n",
       "</style>\n",
       "<table border=\"1\" class=\"dataframe\">\n",
       "  <thead>\n",
       "    <tr style=\"text-align: right;\">\n",
       "      <th></th>\n",
       "      <th>Name</th>\n",
       "      <th>Sex</th>\n",
       "      <th>Ticket</th>\n",
       "      <th>Cabin</th>\n",
       "      <th>Embarked</th>\n",
       "    </tr>\n",
       "  </thead>\n",
       "  <tbody>\n",
       "    <tr>\n",
       "      <th>count</th>\n",
       "      <td>891</td>\n",
       "      <td>891</td>\n",
       "      <td>891</td>\n",
       "      <td>204</td>\n",
       "      <td>889</td>\n",
       "    </tr>\n",
       "    <tr>\n",
       "      <th>unique</th>\n",
       "      <td>891</td>\n",
       "      <td>2</td>\n",
       "      <td>681</td>\n",
       "      <td>147</td>\n",
       "      <td>3</td>\n",
       "    </tr>\n",
       "    <tr>\n",
       "      <th>top</th>\n",
       "      <td>Braund, Mr. Owen Harris</td>\n",
       "      <td>male</td>\n",
       "      <td>347082</td>\n",
       "      <td>B96 B98</td>\n",
       "      <td>S</td>\n",
       "    </tr>\n",
       "    <tr>\n",
       "      <th>freq</th>\n",
       "      <td>1</td>\n",
       "      <td>577</td>\n",
       "      <td>7</td>\n",
       "      <td>4</td>\n",
       "      <td>644</td>\n",
       "    </tr>\n",
       "  </tbody>\n",
       "</table>\n",
       "</div>"
      ],
      "text/plain": [
       "                           Name   Sex  Ticket    Cabin Embarked\n",
       "count                       891   891     891      204      889\n",
       "unique                      891     2     681      147        3\n",
       "top     Braund, Mr. Owen Harris  male  347082  B96 B98        S\n",
       "freq                          1   577       7        4      644"
      ]
     },
     "execution_count": 6,
     "metadata": {},
     "output_type": "execute_result"
    }
   ],
   "source": [
    "train.describe(include=[\"O\"])"
   ]
  },
  {
   "cell_type": "markdown",
   "id": "3aeeaacb",
   "metadata": {
    "papermill": {
     "duration": 0.044407,
     "end_time": "2021-09-28T21:04:25.399477",
     "exception": false,
     "start_time": "2021-09-28T21:04:25.355070",
     "status": "completed"
    },
    "tags": []
   },
   "source": [
    "as we can see the Ticket feature have dublicate values that means there is some sort of pattern in it !!\n"
   ]
  },
  {
   "cell_type": "markdown",
   "id": "87381fbd",
   "metadata": {
    "papermill": {
     "duration": 0.043085,
     "end_time": "2021-09-28T21:04:25.487710",
     "exception": false,
     "start_time": "2021-09-28T21:04:25.444625",
     "status": "completed"
    },
    "tags": []
   },
   "source": [
    "> # **EDA**"
   ]
  },
  {
   "cell_type": "code",
   "execution_count": 7,
   "id": "5a8f70f3",
   "metadata": {
    "execution": {
     "iopub.execute_input": "2021-09-28T21:04:25.581744Z",
     "iopub.status.busy": "2021-09-28T21:04:25.580992Z",
     "iopub.status.idle": "2021-09-28T21:04:25.805758Z",
     "shell.execute_reply": "2021-09-28T21:04:25.807329Z",
     "shell.execute_reply.started": "2021-09-28T20:57:31.451181Z"
    },
    "papermill": {
     "duration": 0.27478,
     "end_time": "2021-09-28T21:04:25.807733",
     "exception": false,
     "start_time": "2021-09-28T21:04:25.532953",
     "status": "completed"
    },
    "tags": []
   },
   "outputs": [
    {
     "data": {
      "image/png": "[encoded data removed]",
      "text/plain": [
       "<Figure size 432x288 with 1 Axes>"
      ]
     },
     "metadata": {
      "needs_background": "light"
     },
     "output_type": "display_data"
    }
   ],
   "source": [
    "sns.barplot(data=train,x=\"Sex\",y=\"Survived\")\n",
    "men=train[train[\"Sex\"]==\"male\"][\"Sex\"].count()\n",
    "survived_men=train[(train[\"Sex\"]==\"male\")&(train[\"Survived\"]==1)][\"Sex\"].count()\n",
    "women=train[train[\"Sex\"]==\"female\"][\"Sex\"].count()\n",
    "women_survived=train[(train[\"Sex\"]==\"female\")& (train[\"Survived\"]==1)][\"Sex\"].count()"
   ]
  },
  {
   "cell_type": "code",
   "execution_count": 8,
   "id": "2471cde6",
   "metadata": {
    "execution": {
     "iopub.execute_input": "2021-09-28T21:04:25.907260Z",
     "iopub.status.busy": "2021-09-28T21:04:25.906516Z",
     "iopub.status.idle": "2021-09-28T21:04:25.914520Z",
     "shell.execute_reply": "2021-09-28T21:04:25.913844Z",
     "shell.execute_reply.started": "2021-09-28T20:57:31.698736Z"
    },
    "papermill": {
     "duration": 0.057046,
     "end_time": "2021-09-28T21:04:25.914678",
     "exception": false,
     "start_time": "2021-09-28T21:04:25.857632",
     "status": "completed"
    },
    "tags": []
   },
   "outputs": [
    {
     "name": "stdout",
     "output_type": "stream",
     "text": [
      "the ratio of men that are survived 18.89\n",
      "the ratio of men that are survived 74.2\n"
     ]
    }
   ],
   "source": [
    "print(\"the ratio of men that are survived\",str(round(survived_men*100/men,2)))\n",
    "print(\"the ratio of men that are survived\",str(round(women_survived*100/women,2)))"
   ]
  },
  {
   "cell_type": "markdown",
   "id": "f1d56ca1",
   "metadata": {
    "papermill": {
     "duration": 0.04302,
     "end_time": "2021-09-28T21:04:26.000807",
     "exception": false,
     "start_time": "2021-09-28T21:04:25.957787",
     "status": "completed"
    },
    "tags": []
   },
   "source": [
    "**as we can Sex feature is really important because women have higher ratio of survival**"
   ]
  },
  {
   "cell_type": "code",
   "execution_count": 9,
   "id": "98bd3758",
   "metadata": {
    "execution": {
     "iopub.execute_input": "2021-09-28T21:04:26.118095Z",
     "iopub.status.busy": "2021-09-28T21:04:26.117099Z",
     "iopub.status.idle": "2021-09-28T21:04:26.270139Z",
     "shell.execute_reply": "2021-09-28T21:04:26.270560Z",
     "shell.execute_reply.started": "2021-09-28T20:57:31.946590Z"
    },
    "papermill": {
     "duration": 0.225817,
     "end_time": "2021-09-28T21:04:26.270738",
     "exception": false,
     "start_time": "2021-09-28T21:04:26.044921",
     "status": "completed"
    },
    "tags": []
   },
   "outputs": [
    {
     "data": {
      "image/png": "[encoded data removed]",
      "text/plain": [
       "<Figure size 432x288 with 1 Axes>"
      ]
     },
     "metadata": {
      "needs_background": "light"
     },
     "output_type": "display_data"
    }
   ],
   "source": [
    "plt.hist(train.loc[train[\"Embarked\"].notnull(),\"Embarked\"],bins=3)   \n",
    "plt.show()"
   ]
  },
  {
   "cell_type": "markdown",
   "id": "ee97fe57",
   "metadata": {
    "papermill": {
     "duration": 0.042614,
     "end_time": "2021-09-28T21:04:26.356225",
     "exception": false,
     "start_time": "2021-09-28T21:04:26.313611",
     "status": "completed"
    },
    "tags": []
   },
   "source": [
    "**As we see the values of Embarked are mostly fall in S category**"
   ]
  },
  {
   "cell_type": "code",
   "execution_count": 10,
   "id": "8a0bc6a2",
   "metadata": {
    "execution": {
     "iopub.execute_input": "2021-09-28T21:04:26.446012Z",
     "iopub.status.busy": "2021-09-28T21:04:26.445305Z",
     "iopub.status.idle": "2021-09-28T21:04:26.720663Z",
     "shell.execute_reply": "2021-09-28T21:04:26.720177Z",
     "shell.execute_reply.started": "2021-09-28T20:57:32.285432Z"
    },
    "papermill": {
     "duration": 0.321654,
     "end_time": "2021-09-28T21:04:26.720807",
     "exception": false,
     "start_time": "2021-09-28T21:04:26.399153",
     "status": "completed"
    },
    "tags": []
   },
   "outputs": [
    {
     "data": {
      "image/png": "[encoded data removed]",
      "text/plain": [
       "<Figure size 432x288 with 1 Axes>"
      ]
     },
     "metadata": {
      "needs_background": "light"
     },
     "output_type": "display_data"
    }
   ],
   "source": [
    "sns.barplot(data=train,x=\"Embarked\",y=\"Survived\")\n",
    "plt.title(\"Correlation between Embarked and Survived\")\n",
    "plt.show()"
   ]
  },
  {
   "cell_type": "code",
   "execution_count": 11,
   "id": "32e3ad69",
   "metadata": {
    "execution": {
     "iopub.execute_input": "2021-09-28T21:04:26.817802Z",
     "iopub.status.busy": "2021-09-28T21:04:26.816801Z",
     "iopub.status.idle": "2021-09-28T21:04:27.066565Z",
     "shell.execute_reply": "2021-09-28T21:04:27.066979Z",
     "shell.execute_reply.started": "2021-09-28T20:57:32.552652Z"
    },
    "papermill": {
     "duration": 0.301852,
     "end_time": "2021-09-28T21:04:27.067168",
     "exception": false,
     "start_time": "2021-09-28T21:04:26.765316",
     "status": "completed"
    },
    "tags": []
   },
   "outputs": [
    {
     "data": {
      "image/png": "[encoded data removed]",
      "text/plain": [
       "<Figure size 432x288 with 1 Axes>"
      ]
     },
     "metadata": {
      "needs_background": "light"
     },
     "output_type": "display_data"
    }
   ],
   "source": [
    "sns.barplot(data=train,x=\"Pclass\",y=\"Survived\")\n",
    "plt.title(\"Correlation between Pclass and Survived\")\n",
    "plt.show()"
   ]
  },
  {
   "cell_type": "markdown",
   "id": "30174857",
   "metadata": {
    "papermill": {
     "duration": 0.047307,
     "end_time": "2021-09-28T21:04:27.159016",
     "exception": false,
     "start_time": "2021-09-28T21:04:27.111709",
     "status": "completed"
    },
    "tags": []
   },
   "source": [
    "> *Thus both Pclass and Embarked are correlated to survive*"
   ]
  },
  {
   "cell_type": "code",
   "execution_count": 12,
   "id": "8d3e2422",
   "metadata": {
    "execution": {
     "iopub.execute_input": "2021-09-28T21:04:27.259812Z",
     "iopub.status.busy": "2021-09-28T21:04:27.258811Z",
     "iopub.status.idle": "2021-09-28T21:04:27.280946Z",
     "shell.execute_reply": "2021-09-28T21:04:27.280230Z",
     "shell.execute_reply.started": "2021-09-28T20:57:32.815891Z"
    },
    "papermill": {
     "duration": 0.072948,
     "end_time": "2021-09-28T21:04:27.281103",
     "exception": false,
     "start_time": "2021-09-28T21:04:27.208155",
     "status": "completed"
    },
    "tags": []
   },
   "outputs": [
    {
     "data": {
      "text/plain": [
       "(7.91, 14.454]     224\n",
       "(-0.001, 7.91]     223\n",
       "(14.454, 31.0]     222\n",
       "(31.0, 512.329]    222\n",
       "Name: Category_feature, dtype: int64"
      ]
     },
     "execution_count": 12,
     "metadata": {},
     "output_type": "execute_result"
    }
   ],
   "source": [
    "train[\"Category_feature\"]=pd.qcut(train[\"Fare\"],4) #divide the fare Columns into 4 equal sized bins\n",
    "train[\"Category_feature\"].value_counts()"
   ]
  },
  {
   "cell_type": "code",
   "execution_count": 13,
   "id": "7148db79",
   "metadata": {
    "execution": {
     "iopub.execute_input": "2021-09-28T21:04:27.397067Z",
     "iopub.status.busy": "2021-09-28T21:04:27.396050Z",
     "iopub.status.idle": "2021-09-28T21:04:27.399090Z",
     "shell.execute_reply": "2021-09-28T21:04:27.398584Z",
     "shell.execute_reply.started": "2021-09-28T20:57:32.924035Z"
    },
    "papermill": {
     "duration": 0.067922,
     "end_time": "2021-09-28T21:04:27.399254",
     "exception": false,
     "start_time": "2021-09-28T21:04:27.331332",
     "status": "completed"
    },
    "tags": []
   },
   "outputs": [],
   "source": [
    "for data in dataset:\n",
    "    data[\"Fare\"]=data[\"Fare\"].fillna(data[\"Fare\"].median())\n",
    "    data.loc[data[\"Fare\"] <= 7.91 , \"Fare\" ]=0\n",
    "    data.loc[(data[\"Fare\"] > 7.91) & (data[\"Fare\"] < 14.454),\"Fare\"]=1\n",
    "    data.loc[(data[\"Fare\"] > 14.454) & (data[\"Fare\"] <= 31.0),'Fare']=2\n",
    "    data.loc[(data[\"Fare\"] > 31.0),\"Fare\"]=3\n",
    "    data[\"Fare\"]=data[\"Fare\"].astype(int)"
   ]
  },
  {
   "cell_type": "code",
   "execution_count": 14,
   "id": "b570822e",
   "metadata": {
    "execution": {
     "iopub.execute_input": "2021-09-28T21:04:27.501962Z",
     "iopub.status.busy": "2021-09-28T21:04:27.500915Z",
     "iopub.status.idle": "2021-09-28T21:04:27.504380Z",
     "shell.execute_reply": "2021-09-28T21:04:27.504814Z",
     "shell.execute_reply.started": "2021-09-28T20:57:33.111875Z"
    },
    "papermill": {
     "duration": 0.058563,
     "end_time": "2021-09-28T21:04:27.505048",
     "exception": false,
     "start_time": "2021-09-28T21:04:27.446485",
     "status": "completed"
    },
    "tags": []
   },
   "outputs": [
    {
     "data": {
      "text/plain": [
       "array([0, 1, 2, 3])"
      ]
     },
     "execution_count": 14,
     "metadata": {},
     "output_type": "execute_result"
    }
   ],
   "source": [
    "train[\"Fare\"]=train[\"Fare\"].astype(int)\n",
    "test[\"Fare\"].unique()"
   ]
  },
  {
   "cell_type": "code",
   "execution_count": 15,
   "id": "3b62412a",
   "metadata": {
    "execution": {
     "iopub.execute_input": "2021-09-28T21:04:27.608727Z",
     "iopub.status.busy": "2021-09-28T21:04:27.607676Z",
     "iopub.status.idle": "2021-09-28T21:04:27.900133Z",
     "shell.execute_reply": "2021-09-28T21:04:27.899487Z",
     "shell.execute_reply.started": "2021-09-28T20:57:33.261680Z"
    },
    "papermill": {
     "duration": 0.348026,
     "end_time": "2021-09-28T21:04:27.900308",
     "exception": false,
     "start_time": "2021-09-28T21:04:27.552282",
     "status": "completed"
    },
    "tags": []
   },
   "outputs": [
    {
     "data": {
      "image/png": "[encoded data removed]",
      "text/plain": [
       "<Figure size 432x288 with 1 Axes>"
      ]
     },
     "metadata": {
      "needs_background": "light"
     },
     "output_type": "display_data"
    }
   ],
   "source": [
    "sns.barplot(data=train,x=\"Fare\",y=\"Survived\")\n",
    "plt.show()"
   ]
  },
  {
   "cell_type": "markdown",
   "id": "f4789901",
   "metadata": {
    "execution": {
     "iopub.execute_input": "2021-09-27T20:38:57.810208Z",
     "iopub.status.busy": "2021-09-27T20:38:57.809917Z",
     "iopub.status.idle": "2021-09-27T20:38:57.816162Z",
     "shell.execute_reply": "2021-09-27T20:38:57.815176Z",
     "shell.execute_reply.started": "2021-09-27T20:38:57.810165Z"
    },
    "papermill": {
     "duration": 0.05094,
     "end_time": "2021-09-28T21:04:28.000781",
     "exception": false,
     "start_time": "2021-09-28T21:04:27.949841",
     "status": "completed"
    },
    "tags": []
   },
   "source": [
    "**As we clearly see the Fare is highly correlated to Survived** (*more fare rate have highly chances of survival*)\n"
   ]
  },
  {
   "cell_type": "code",
   "execution_count": 16,
   "id": "dc5453d4",
   "metadata": {
    "execution": {
     "iopub.execute_input": "2021-09-28T21:04:28.112199Z",
     "iopub.status.busy": "2021-09-28T21:04:28.111545Z",
     "iopub.status.idle": "2021-09-28T21:04:28.114237Z",
     "shell.execute_reply": "2021-09-28T21:04:28.114678Z",
     "shell.execute_reply.started": "2021-09-28T20:57:33.610449Z"
    },
    "papermill": {
     "duration": 0.066371,
     "end_time": "2021-09-28T21:04:28.114890",
     "exception": false,
     "start_time": "2021-09-28T21:04:28.048519",
     "status": "completed"
    },
    "tags": []
   },
   "outputs": [
    {
     "name": "stderr",
     "output_type": "stream",
     "text": [
      "/opt/conda/lib/python3.7/site-packages/ipykernel_launcher.py:6: SettingWithCopyWarning: \n",
      "A value is trying to be set on a copy of a slice from a DataFrame\n",
      "\n",
      "See the caveats in the documentation: https://pandas.pydata.org/pandas-docs/stable/user_guide/indexing.html#returning-a-view-versus-a-copy\n",
      "  \n"
     ]
    }
   ],
   "source": [
    "for data in dataset:\n",
    "    avg_age=data[\"Age\"].mean() #calculating the mean value  \n",
    "    avg_std=data[\"Age\"].std() #calculating the standard darivation\n",
    "    age_null_count=data[\"Age\"].isnull().sum() # finding how many null values are present \n",
    "    null_values=np.random.randint(avg_age-avg_std,avg_age+avg_std,size=age_null_count) # by using the random int we initialize the random value in range of mean and standard darivation \n",
    "    data[\"Age\"][np.isnan(data[\"Age\"])]=null_values \n",
    "    data[\"Age\"]=data[\"Age\"].astype(int)# converting the value in int \n"
   ]
  },
  {
   "cell_type": "markdown",
   "id": "ed119663",
   "metadata": {
    "papermill": {
     "duration": 0.048506,
     "end_time": "2021-09-28T21:04:28.213310",
     "exception": false,
     "start_time": "2021-09-28T21:04:28.164804",
     "status": "completed"
    },
    "tags": []
   },
   "source": [
    "**handling the missing values is Age feature**"
   ]
  },
  {
   "cell_type": "code",
   "execution_count": 17,
   "id": "df091cf4",
   "metadata": {
    "execution": {
     "iopub.execute_input": "2021-09-28T21:04:28.321823Z",
     "iopub.status.busy": "2021-09-28T21:04:28.321040Z",
     "iopub.status.idle": "2021-09-28T21:04:28.324737Z",
     "shell.execute_reply": "2021-09-28T21:04:28.324113Z",
     "shell.execute_reply.started": "2021-09-28T20:57:33.949476Z"
    },
    "papermill": {
     "duration": 0.062225,
     "end_time": "2021-09-28T21:04:28.324912",
     "exception": false,
     "start_time": "2021-09-28T21:04:28.262687",
     "status": "completed"
    },
    "tags": []
   },
   "outputs": [],
   "source": [
    "train[\"Category_age\"]=pd.qcut(train[\"Age\"],5)"
   ]
  },
  {
   "cell_type": "markdown",
   "id": "021957f2",
   "metadata": {
    "execution": {
     "iopub.execute_input": "2021-09-28T02:41:38.683169Z",
     "iopub.status.busy": "2021-09-28T02:41:38.682884Z",
     "iopub.status.idle": "2021-09-28T02:41:38.68847Z",
     "shell.execute_reply": "2021-09-28T02:41:38.6874Z",
     "shell.execute_reply.started": "2021-09-28T02:41:38.683141Z"
    },
    "papermill": {
     "duration": 0.050498,
     "end_time": "2021-09-28T21:04:28.425171",
     "exception": false,
     "start_time": "2021-09-28T21:04:28.374673",
     "status": "completed"
    },
    "tags": []
   },
   "source": [
    "**Age feature is divided into 5 equal size bin**"
   ]
  },
  {
   "cell_type": "code",
   "execution_count": 18,
   "id": "79809d16",
   "metadata": {
    "execution": {
     "iopub.execute_input": "2021-09-28T21:04:28.541322Z",
     "iopub.status.busy": "2021-09-28T21:04:28.540608Z",
     "iopub.status.idle": "2021-09-28T21:04:28.543848Z",
     "shell.execute_reply": "2021-09-28T21:04:28.543352Z",
     "shell.execute_reply.started": "2021-09-28T20:57:34.326740Z"
    },
    "papermill": {
     "duration": 0.06968,
     "end_time": "2021-09-28T21:04:28.544034",
     "exception": false,
     "start_time": "2021-09-28T21:04:28.474354",
     "status": "completed"
    },
    "tags": []
   },
   "outputs": [],
   "source": [
    "for data in dataset:\n",
    "    data.loc[data[\"Age\"] <= 19.0,\"Age\"]=0    \n",
    "    data.loc[(data[\"Age\"] > 19) & (data[\"Age\"] <= 25),\"Age\"]=1\n",
    "    data.loc[(data[\"Age\"] > 25) & (data[\"Age\"] <= 31),\"Age\" ]=2\n",
    "    data.loc[(data[\"Age\"] > 31) & (data[\"Age\"] <= 40),\"Age\" ]=3\n",
    "    data.loc[(data[\"Age\"] > 40) & (data[\"Age\"] <= 80),\"Age\" ]=4"
   ]
  },
  {
   "cell_type": "code",
   "execution_count": 19,
   "id": "ad07adf9",
   "metadata": {
    "execution": {
     "iopub.execute_input": "2021-09-28T21:04:28.651538Z",
     "iopub.status.busy": "2021-09-28T21:04:28.649044Z",
     "iopub.status.idle": "2021-09-28T21:04:28.949215Z",
     "shell.execute_reply": "2021-09-28T21:04:28.949731Z",
     "shell.execute_reply.started": "2021-09-28T20:57:34.518658Z"
    },
    "papermill": {
     "duration": 0.358187,
     "end_time": "2021-09-28T21:04:28.949960",
     "exception": false,
     "start_time": "2021-09-28T21:04:28.591773",
     "status": "completed"
    },
    "tags": []
   },
   "outputs": [
    {
     "data": {
      "image/png": "[encoded data removed]",
      "text/plain": [
       "<Figure size 432x288 with 1 Axes>"
      ]
     },
     "metadata": {
      "needs_background": "light"
     },
     "output_type": "display_data"
    }
   ],
   "source": [
    "sns.barplot(data=train,x=\"Age\",y=\"Survived\")\n",
    "plt.title(\"Correlation between the Age and survived\")\n",
    "plt.show()"
   ]
  },
  {
   "cell_type": "code",
   "execution_count": 20,
   "id": "e6264fa7",
   "metadata": {
    "execution": {
     "iopub.execute_input": "2021-09-28T21:04:29.065529Z",
     "iopub.status.busy": "2021-09-28T21:04:29.059503Z",
     "iopub.status.idle": "2021-09-28T21:04:29.069539Z",
     "shell.execute_reply": "2021-09-28T21:04:29.069008Z",
     "shell.execute_reply.started": "2021-09-28T20:57:34.827577Z"
    },
    "papermill": {
     "duration": 0.070199,
     "end_time": "2021-09-28T21:04:29.069703",
     "exception": false,
     "start_time": "2021-09-28T21:04:28.999504",
     "status": "completed"
    },
    "tags": []
   },
   "outputs": [
    {
     "data": {
      "text/html": [
       "<div>\n",
       "<style scoped>\n",
       "    .dataframe tbody tr th:only-of-type {\n",
       "        vertical-align: middle;\n",
       "    }\n",
       "\n",
       "    .dataframe tbody tr th {\n",
       "        vertical-align: top;\n",
       "    }\n",
       "\n",
       "    .dataframe thead th {\n",
       "        text-align: right;\n",
       "    }\n",
       "</style>\n",
       "<table border=\"1\" class=\"dataframe\">\n",
       "  <thead>\n",
       "    <tr style=\"text-align: right;\">\n",
       "      <th></th>\n",
       "      <th>Parch</th>\n",
       "      <th>Survived</th>\n",
       "    </tr>\n",
       "  </thead>\n",
       "  <tbody>\n",
       "    <tr>\n",
       "      <th>3</th>\n",
       "      <td>3</td>\n",
       "      <td>0.600000</td>\n",
       "    </tr>\n",
       "    <tr>\n",
       "      <th>1</th>\n",
       "      <td>1</td>\n",
       "      <td>0.550847</td>\n",
       "    </tr>\n",
       "    <tr>\n",
       "      <th>2</th>\n",
       "      <td>2</td>\n",
       "      <td>0.500000</td>\n",
       "    </tr>\n",
       "    <tr>\n",
       "      <th>0</th>\n",
       "      <td>0</td>\n",
       "      <td>0.343658</td>\n",
       "    </tr>\n",
       "    <tr>\n",
       "      <th>5</th>\n",
       "      <td>5</td>\n",
       "      <td>0.200000</td>\n",
       "    </tr>\n",
       "    <tr>\n",
       "      <th>4</th>\n",
       "      <td>4</td>\n",
       "      <td>0.000000</td>\n",
       "    </tr>\n",
       "    <tr>\n",
       "      <th>6</th>\n",
       "      <td>6</td>\n",
       "      <td>0.000000</td>\n",
       "    </tr>\n",
       "  </tbody>\n",
       "</table>\n",
       "</div>"
      ],
      "text/plain": [
       "   Parch  Survived\n",
       "3      3  0.600000\n",
       "1      1  0.550847\n",
       "2      2  0.500000\n",
       "0      0  0.343658\n",
       "5      5  0.200000\n",
       "4      4  0.000000\n",
       "6      6  0.000000"
      ]
     },
     "execution_count": 20,
     "metadata": {},
     "output_type": "execute_result"
    }
   ],
   "source": [
    "train[[\"Parch\",\"Survived\"]].groupby('Parch',as_index=False).mean().sort_values(by=\"Survived\",ascending=False)"
   ]
  },
  {
   "cell_type": "code",
   "execution_count": 21,
   "id": "244652b0",
   "metadata": {
    "execution": {
     "iopub.execute_input": "2021-09-28T21:04:29.177829Z",
     "iopub.status.busy": "2021-09-28T21:04:29.177150Z",
     "iopub.status.idle": "2021-09-28T21:04:29.188471Z",
     "shell.execute_reply": "2021-09-28T21:04:29.189311Z",
     "shell.execute_reply.started": "2021-09-28T20:57:34.903121Z"
    },
    "papermill": {
     "duration": 0.067936,
     "end_time": "2021-09-28T21:04:29.189536",
     "exception": false,
     "start_time": "2021-09-28T21:04:29.121600",
     "status": "completed"
    },
    "tags": []
   },
   "outputs": [
    {
     "data": {
      "text/html": [
       "<div>\n",
       "<style scoped>\n",
       "    .dataframe tbody tr th:only-of-type {\n",
       "        vertical-align: middle;\n",
       "    }\n",
       "\n",
       "    .dataframe tbody tr th {\n",
       "        vertical-align: top;\n",
       "    }\n",
       "\n",
       "    .dataframe thead th {\n",
       "        text-align: right;\n",
       "    }\n",
       "</style>\n",
       "<table border=\"1\" class=\"dataframe\">\n",
       "  <thead>\n",
       "    <tr style=\"text-align: right;\">\n",
       "      <th></th>\n",
       "      <th>SibSp</th>\n",
       "      <th>Survived</th>\n",
       "    </tr>\n",
       "  </thead>\n",
       "  <tbody>\n",
       "    <tr>\n",
       "      <th>1</th>\n",
       "      <td>1</td>\n",
       "      <td>0.535885</td>\n",
       "    </tr>\n",
       "    <tr>\n",
       "      <th>2</th>\n",
       "      <td>2</td>\n",
       "      <td>0.464286</td>\n",
       "    </tr>\n",
       "    <tr>\n",
       "      <th>0</th>\n",
       "      <td>0</td>\n",
       "      <td>0.345395</td>\n",
       "    </tr>\n",
       "    <tr>\n",
       "      <th>3</th>\n",
       "      <td>3</td>\n",
       "      <td>0.250000</td>\n",
       "    </tr>\n",
       "    <tr>\n",
       "      <th>4</th>\n",
       "      <td>4</td>\n",
       "      <td>0.166667</td>\n",
       "    </tr>\n",
       "    <tr>\n",
       "      <th>5</th>\n",
       "      <td>5</td>\n",
       "      <td>0.000000</td>\n",
       "    </tr>\n",
       "    <tr>\n",
       "      <th>6</th>\n",
       "      <td>8</td>\n",
       "      <td>0.000000</td>\n",
       "    </tr>\n",
       "  </tbody>\n",
       "</table>\n",
       "</div>"
      ],
      "text/plain": [
       "   SibSp  Survived\n",
       "1      1  0.535885\n",
       "2      2  0.464286\n",
       "0      0  0.345395\n",
       "3      3  0.250000\n",
       "4      4  0.166667\n",
       "5      5  0.000000\n",
       "6      8  0.000000"
      ]
     },
     "execution_count": 21,
     "metadata": {},
     "output_type": "execute_result"
    }
   ],
   "source": [
    "train[[\"SibSp\",\"Survived\"]].groupby([\"SibSp\"],as_index=False).mean().sort_values(by=\"Survived\",ascending=False)"
   ]
  },
  {
   "cell_type": "markdown",
   "id": "8b86c1d2",
   "metadata": {
    "papermill": {
     "duration": 0.052247,
     "end_time": "2021-09-28T21:04:29.292938",
     "exception": false,
     "start_time": "2021-09-28T21:04:29.240691",
     "status": "completed"
    },
    "tags": []
   },
   "source": [
    "> **both SibSp and Parch is related to each other, either he\\she is travelling alone or with Family**    "
   ]
  },
  {
   "cell_type": "code",
   "execution_count": 22,
   "id": "9c1ca903",
   "metadata": {
    "execution": {
     "iopub.execute_input": "2021-09-28T21:04:29.402406Z",
     "iopub.status.busy": "2021-09-28T21:04:29.401724Z",
     "iopub.status.idle": "2021-09-28T21:04:29.419167Z",
     "shell.execute_reply": "2021-09-28T21:04:29.419662Z",
     "shell.execute_reply.started": "2021-09-28T20:57:35.254589Z"
    },
    "papermill": {
     "duration": 0.07399,
     "end_time": "2021-09-28T21:04:29.419848",
     "exception": false,
     "start_time": "2021-09-28T21:04:29.345858",
     "status": "completed"
    },
    "tags": []
   },
   "outputs": [
    {
     "data": {
      "text/html": [
       "<div>\n",
       "<style scoped>\n",
       "    .dataframe tbody tr th:only-of-type {\n",
       "        vertical-align: middle;\n",
       "    }\n",
       "\n",
       "    .dataframe tbody tr th {\n",
       "        vertical-align: top;\n",
       "    }\n",
       "\n",
       "    .dataframe thead th {\n",
       "        text-align: right;\n",
       "    }\n",
       "</style>\n",
       "<table border=\"1\" class=\"dataframe\">\n",
       "  <thead>\n",
       "    <tr style=\"text-align: right;\">\n",
       "      <th></th>\n",
       "      <th>PassengerId</th>\n",
       "      <th>Survived</th>\n",
       "      <th>Pclass</th>\n",
       "      <th>Name</th>\n",
       "      <th>Sex</th>\n",
       "      <th>Age</th>\n",
       "      <th>SibSp</th>\n",
       "      <th>Parch</th>\n",
       "      <th>Ticket</th>\n",
       "      <th>Fare</th>\n",
       "      <th>Cabin</th>\n",
       "      <th>Embarked</th>\n",
       "      <th>Category_feature</th>\n",
       "      <th>Category_age</th>\n",
       "      <th>Family_size</th>\n",
       "    </tr>\n",
       "  </thead>\n",
       "  <tbody>\n",
       "    <tr>\n",
       "      <th>0</th>\n",
       "      <td>1</td>\n",
       "      <td>0</td>\n",
       "      <td>3</td>\n",
       "      <td>Braund, Mr. Owen Harris</td>\n",
       "      <td>male</td>\n",
       "      <td>1</td>\n",
       "      <td>1</td>\n",
       "      <td>0</td>\n",
       "      <td>A/5 21171</td>\n",
       "      <td>0</td>\n",
       "      <td>NaN</td>\n",
       "      <td>S</td>\n",
       "      <td>(-0.001, 7.91]</td>\n",
       "      <td>(19.0, 25.0]</td>\n",
       "      <td>2</td>\n",
       "    </tr>\n",
       "    <tr>\n",
       "      <th>1</th>\n",
       "      <td>2</td>\n",
       "      <td>1</td>\n",
       "      <td>1</td>\n",
       "      <td>Cumings, Mrs. John Bradley (Florence Briggs Th...</td>\n",
       "      <td>female</td>\n",
       "      <td>3</td>\n",
       "      <td>1</td>\n",
       "      <td>0</td>\n",
       "      <td>PC 17599</td>\n",
       "      <td>3</td>\n",
       "      <td>C85</td>\n",
       "      <td>C</td>\n",
       "      <td>(31.0, 512.329]</td>\n",
       "      <td>(32.0, 40.0]</td>\n",
       "      <td>2</td>\n",
       "    </tr>\n",
       "    <tr>\n",
       "      <th>2</th>\n",
       "      <td>3</td>\n",
       "      <td>1</td>\n",
       "      <td>3</td>\n",
       "      <td>Heikkinen, Miss. Laina</td>\n",
       "      <td>female</td>\n",
       "      <td>2</td>\n",
       "      <td>0</td>\n",
       "      <td>0</td>\n",
       "      <td>STON/O2. 3101282</td>\n",
       "      <td>1</td>\n",
       "      <td>NaN</td>\n",
       "      <td>S</td>\n",
       "      <td>(7.91, 14.454]</td>\n",
       "      <td>(25.0, 32.0]</td>\n",
       "      <td>1</td>\n",
       "    </tr>\n",
       "    <tr>\n",
       "      <th>3</th>\n",
       "      <td>4</td>\n",
       "      <td>1</td>\n",
       "      <td>1</td>\n",
       "      <td>Futrelle, Mrs. Jacques Heath (Lily May Peel)</td>\n",
       "      <td>female</td>\n",
       "      <td>3</td>\n",
       "      <td>1</td>\n",
       "      <td>0</td>\n",
       "      <td>113803</td>\n",
       "      <td>3</td>\n",
       "      <td>C123</td>\n",
       "      <td>S</td>\n",
       "      <td>(31.0, 512.329]</td>\n",
       "      <td>(32.0, 40.0]</td>\n",
       "      <td>2</td>\n",
       "    </tr>\n",
       "    <tr>\n",
       "      <th>4</th>\n",
       "      <td>5</td>\n",
       "      <td>0</td>\n",
       "      <td>3</td>\n",
       "      <td>Allen, Mr. William Henry</td>\n",
       "      <td>male</td>\n",
       "      <td>3</td>\n",
       "      <td>0</td>\n",
       "      <td>0</td>\n",
       "      <td>373450</td>\n",
       "      <td>1</td>\n",
       "      <td>NaN</td>\n",
       "      <td>S</td>\n",
       "      <td>(7.91, 14.454]</td>\n",
       "      <td>(32.0, 40.0]</td>\n",
       "      <td>1</td>\n",
       "    </tr>\n",
       "  </tbody>\n",
       "</table>\n",
       "</div>"
      ],
      "text/plain": [
       "   PassengerId  Survived  Pclass  \\\n",
       "0            1         0       3   \n",
       "1            2         1       1   \n",
       "2            3         1       3   \n",
       "3            4         1       1   \n",
       "4            5         0       3   \n",
       "\n",
       "                                                Name     Sex  Age  SibSp  \\\n",
       "0                            Braund, Mr. Owen Harris    male    1      1   \n",
       "1  Cumings, Mrs. John Bradley (Florence Briggs Th...  female    3      1   \n",
       "2                             Heikkinen, Miss. Laina  female    2      0   \n",
       "3       Futrelle, Mrs. Jacques Heath (Lily May Peel)  female    3      1   \n",
       "4                           Allen, Mr. William Henry    male    3      0   \n",
       "\n",
       "   Parch            Ticket  Fare Cabin Embarked Category_feature  \\\n",
       "0      0         A/5 21171     0   NaN        S   (-0.001, 7.91]   \n",
       "1      0          PC 17599     3   C85        C  (31.0, 512.329]   \n",
       "2      0  STON/O2. 3101282     1   NaN        S   (7.91, 14.454]   \n",
       "3      0            113803     3  C123        S  (31.0, 512.329]   \n",
       "4      0            373450     1   NaN        S   (7.91, 14.454]   \n",
       "\n",
       "   Category_age  Family_size  \n",
       "0  (19.0, 25.0]            2  \n",
       "1  (32.0, 40.0]            2  \n",
       "2  (25.0, 32.0]            1  \n",
       "3  (32.0, 40.0]            2  \n",
       "4  (32.0, 40.0]            1  "
      ]
     },
     "execution_count": 22,
     "metadata": {},
     "output_type": "execute_result"
    }
   ],
   "source": [
    "for data in dataset:\n",
    "    data[\"Family_size\"]=data[\"SibSp\"] + data[\"Parch\"] + 1\n",
    "dataset[0].head()"
   ]
  },
  {
   "cell_type": "code",
   "execution_count": 23,
   "id": "848dcc7e",
   "metadata": {
    "execution": {
     "iopub.execute_input": "2021-09-28T21:04:29.526239Z",
     "iopub.status.busy": "2021-09-28T21:04:29.525269Z",
     "iopub.status.idle": "2021-09-28T21:04:30.266332Z",
     "shell.execute_reply": "2021-09-28T21:04:30.265722Z",
     "shell.execute_reply.started": "2021-09-28T20:57:35.446198Z"
    },
    "papermill": {
     "duration": 0.795402,
     "end_time": "2021-09-28T21:04:30.266505",
     "exception": false,
     "start_time": "2021-09-28T21:04:29.471103",
     "status": "completed"
    },
    "tags": []
   },
   "outputs": [
    {
     "data": {
      "image/png": "[encoded data removed]",
      "text/plain": [
       "<Figure size 432x288 with 2 Axes>"
      ]
     },
     "metadata": {
      "needs_background": "light"
     },
     "output_type": "display_data"
    }
   ],
   "source": [
    "for data in dataset:\n",
    "    data[\"IsAlone\"]=0\n",
    "    data.loc[data[\"Family_size\"]==1,'IsAlone']=1\n",
    "sns.heatmap(train.corr(),annot=True)\n",
    "plt.show()"
   ]
  },
  {
   "cell_type": "markdown",
   "id": "27f41dae",
   "metadata": {
    "papermill": {
     "duration": 0.050634,
     "end_time": "2021-09-28T21:04:30.370752",
     "exception": false,
     "start_time": "2021-09-28T21:04:30.320118",
     "status": "completed"
    },
    "tags": []
   },
   "source": [
    "> **if the family_Size is 1 that means a person is travelling alone**"
   ]
  },
  {
   "cell_type": "code",
   "execution_count": 24,
   "id": "e1adf839",
   "metadata": {
    "execution": {
     "iopub.execute_input": "2021-09-28T21:04:30.484345Z",
     "iopub.status.busy": "2021-09-28T21:04:30.483607Z",
     "iopub.status.idle": "2021-09-28T21:04:30.496707Z",
     "shell.execute_reply": "2021-09-28T21:04:30.496144Z",
     "shell.execute_reply.started": "2021-09-28T20:57:36.092188Z"
    },
    "papermill": {
     "duration": 0.075555,
     "end_time": "2021-09-28T21:04:30.496884",
     "exception": false,
     "start_time": "2021-09-28T21:04:30.421329",
     "status": "completed"
    },
    "tags": []
   },
   "outputs": [
    {
     "data": {
      "text/html": [
       "<div>\n",
       "<style scoped>\n",
       "    .dataframe tbody tr th:only-of-type {\n",
       "        vertical-align: middle;\n",
       "    }\n",
       "\n",
       "    .dataframe tbody tr th {\n",
       "        vertical-align: top;\n",
       "    }\n",
       "\n",
       "    .dataframe thead th {\n",
       "        text-align: right;\n",
       "    }\n",
       "</style>\n",
       "<table border=\"1\" class=\"dataframe\">\n",
       "  <thead>\n",
       "    <tr style=\"text-align: right;\">\n",
       "      <th></th>\n",
       "      <th>PassengerId</th>\n",
       "      <th>Survived</th>\n",
       "      <th>Pclass</th>\n",
       "      <th>Name</th>\n",
       "      <th>Sex</th>\n",
       "      <th>Age</th>\n",
       "      <th>SibSp</th>\n",
       "      <th>Parch</th>\n",
       "      <th>Ticket</th>\n",
       "      <th>Fare</th>\n",
       "      <th>Cabin</th>\n",
       "      <th>Embarked</th>\n",
       "      <th>Category_feature</th>\n",
       "      <th>Category_age</th>\n",
       "      <th>Family_size</th>\n",
       "      <th>IsAlone</th>\n",
       "    </tr>\n",
       "  </thead>\n",
       "  <tbody>\n",
       "    <tr>\n",
       "      <th>0</th>\n",
       "      <td>1</td>\n",
       "      <td>0</td>\n",
       "      <td>3</td>\n",
       "      <td>Braund, Mr. Owen Harris</td>\n",
       "      <td>male</td>\n",
       "      <td>1</td>\n",
       "      <td>1</td>\n",
       "      <td>0</td>\n",
       "      <td>A/5 21171</td>\n",
       "      <td>0</td>\n",
       "      <td>NaN</td>\n",
       "      <td>S</td>\n",
       "      <td>(-0.001, 7.91]</td>\n",
       "      <td>(19.0, 25.0]</td>\n",
       "      <td>2</td>\n",
       "      <td>0</td>\n",
       "    </tr>\n",
       "    <tr>\n",
       "      <th>1</th>\n",
       "      <td>2</td>\n",
       "      <td>1</td>\n",
       "      <td>1</td>\n",
       "      <td>Cumings, Mrs. John Bradley (Florence Briggs Th...</td>\n",
       "      <td>female</td>\n",
       "      <td>3</td>\n",
       "      <td>1</td>\n",
       "      <td>0</td>\n",
       "      <td>PC 17599</td>\n",
       "      <td>3</td>\n",
       "      <td>C85</td>\n",
       "      <td>C</td>\n",
       "      <td>(31.0, 512.329]</td>\n",
       "      <td>(32.0, 40.0]</td>\n",
       "      <td>2</td>\n",
       "      <td>0</td>\n",
       "    </tr>\n",
       "    <tr>\n",
       "      <th>2</th>\n",
       "      <td>3</td>\n",
       "      <td>1</td>\n",
       "      <td>3</td>\n",
       "      <td>Heikkinen, Miss. Laina</td>\n",
       "      <td>female</td>\n",
       "      <td>2</td>\n",
       "      <td>0</td>\n",
       "      <td>0</td>\n",
       "      <td>STON/O2. 3101282</td>\n",
       "      <td>1</td>\n",
       "      <td>NaN</td>\n",
       "      <td>S</td>\n",
       "      <td>(7.91, 14.454]</td>\n",
       "      <td>(25.0, 32.0]</td>\n",
       "      <td>1</td>\n",
       "      <td>1</td>\n",
       "    </tr>\n",
       "    <tr>\n",
       "      <th>3</th>\n",
       "      <td>4</td>\n",
       "      <td>1</td>\n",
       "      <td>1</td>\n",
       "      <td>Futrelle, Mrs. Jacques Heath (Lily May Peel)</td>\n",
       "      <td>female</td>\n",
       "      <td>3</td>\n",
       "      <td>1</td>\n",
       "      <td>0</td>\n",
       "      <td>113803</td>\n",
       "      <td>3</td>\n",
       "      <td>C123</td>\n",
       "      <td>S</td>\n",
       "      <td>(31.0, 512.329]</td>\n",
       "      <td>(32.0, 40.0]</td>\n",
       "      <td>2</td>\n",
       "      <td>0</td>\n",
       "    </tr>\n",
       "    <tr>\n",
       "      <th>4</th>\n",
       "      <td>5</td>\n",
       "      <td>0</td>\n",
       "      <td>3</td>\n",
       "      <td>Allen, Mr. William Henry</td>\n",
       "      <td>male</td>\n",
       "      <td>3</td>\n",
       "      <td>0</td>\n",
       "      <td>0</td>\n",
       "      <td>373450</td>\n",
       "      <td>1</td>\n",
       "      <td>NaN</td>\n",
       "      <td>S</td>\n",
       "      <td>(7.91, 14.454]</td>\n",
       "      <td>(32.0, 40.0]</td>\n",
       "      <td>1</td>\n",
       "      <td>1</td>\n",
       "    </tr>\n",
       "  </tbody>\n",
       "</table>\n",
       "</div>"
      ],
      "text/plain": [
       "   PassengerId  Survived  Pclass  \\\n",
       "0            1         0       3   \n",
       "1            2         1       1   \n",
       "2            3         1       3   \n",
       "3            4         1       1   \n",
       "4            5         0       3   \n",
       "\n",
       "                                                Name     Sex  Age  SibSp  \\\n",
       "0                            Braund, Mr. Owen Harris    male    1      1   \n",
       "1  Cumings, Mrs. John Bradley (Florence Briggs Th...  female    3      1   \n",
       "2                             Heikkinen, Miss. Laina  female    2      0   \n",
       "3       Futrelle, Mrs. Jacques Heath (Lily May Peel)  female    3      1   \n",
       "4                           Allen, Mr. William Henry    male    3      0   \n",
       "\n",
       "   Parch            Ticket  Fare Cabin Embarked Category_feature  \\\n",
       "0      0         A/5 21171     0   NaN        S   (-0.001, 7.91]   \n",
       "1      0          PC 17599     3   C85        C  (31.0, 512.329]   \n",
       "2      0  STON/O2. 3101282     1   NaN        S   (7.91, 14.454]   \n",
       "3      0            113803     3  C123        S  (31.0, 512.329]   \n",
       "4      0            373450     1   NaN        S   (7.91, 14.454]   \n",
       "\n",
       "   Category_age  Family_size  IsAlone  \n",
       "0  (19.0, 25.0]            2        0  \n",
       "1  (32.0, 40.0]            2        0  \n",
       "2  (25.0, 32.0]            1        1  \n",
       "3  (32.0, 40.0]            2        0  \n",
       "4  (32.0, 40.0]            1        1  "
      ]
     },
     "execution_count": 24,
     "metadata": {},
     "output_type": "execute_result"
    }
   ],
   "source": [
    "train.head()"
   ]
  },
  {
   "cell_type": "markdown",
   "id": "d596a490",
   "metadata": {
    "papermill": {
     "duration": 0.053703,
     "end_time": "2021-09-28T21:04:30.601860",
     "exception": false,
     "start_time": "2021-09-28T21:04:30.548157",
     "status": "completed"
    },
    "tags": []
   },
   "source": [
    "> **converting the Ticket feature into numerical form to identify the pattern in it**"
   ]
  },
  {
   "cell_type": "code",
   "execution_count": 25,
   "id": "12df718c",
   "metadata": {
    "execution": {
     "iopub.execute_input": "2021-09-28T21:04:30.713603Z",
     "iopub.status.busy": "2021-09-28T21:04:30.712892Z",
     "iopub.status.idle": "2021-09-28T21:04:30.719134Z",
     "shell.execute_reply": "2021-09-28T21:04:30.718466Z",
     "shell.execute_reply.started": "2021-09-28T20:57:36.188789Z"
    },
    "papermill": {
     "duration": 0.064001,
     "end_time": "2021-09-28T21:04:30.719293",
     "exception": false,
     "start_time": "2021-09-28T21:04:30.655292",
     "status": "completed"
    },
    "tags": []
   },
   "outputs": [],
   "source": [
    "train[\"ticket_type\"]=train[\"Ticket\"].apply(lambda x:x[:3])\n",
    "train[\"ticket_type\"]=train[\"ticket_type\"].astype(\"category\")\n",
    "train[\"ticket_type\"]=train[\"ticket_type\"].cat.codes"
   ]
  },
  {
   "cell_type": "code",
   "execution_count": 26,
   "id": "a2a43a68",
   "metadata": {
    "execution": {
     "iopub.execute_input": "2021-09-28T21:04:30.834593Z",
     "iopub.status.busy": "2021-09-28T21:04:30.832834Z",
     "iopub.status.idle": "2021-09-28T21:04:30.838021Z",
     "shell.execute_reply": "2021-09-28T21:04:30.837511Z",
     "shell.execute_reply.started": "2021-09-28T20:57:36.389438Z"
    },
    "papermill": {
     "duration": 0.066568,
     "end_time": "2021-09-28T21:04:30.838192",
     "exception": false,
     "start_time": "2021-09-28T21:04:30.771624",
     "status": "completed"
    },
    "tags": []
   },
   "outputs": [],
   "source": [
    "test[\"ticket_type\"]=test[\"Ticket\"].apply(lambda x:x[:3])\n",
    "test[\"ticket_type\"]=test[\"ticket_type\"].astype(\"category\")\n",
    "test[\"ticket_type\"]=test[\"ticket_type\"].cat.codes"
   ]
  },
  {
   "cell_type": "code",
   "execution_count": 27,
   "id": "7ccc4485",
   "metadata": {
    "execution": {
     "iopub.execute_input": "2021-09-28T21:04:30.958747Z",
     "iopub.status.busy": "2021-09-28T21:04:30.957719Z",
     "iopub.status.idle": "2021-09-28T21:04:30.960495Z",
     "shell.execute_reply": "2021-09-28T21:04:30.959804Z",
     "shell.execute_reply.started": "2021-09-28T20:57:36.707190Z"
    },
    "papermill": {
     "duration": 0.069075,
     "end_time": "2021-09-28T21:04:30.960668",
     "exception": false,
     "start_time": "2021-09-28T21:04:30.891593",
     "status": "completed"
    },
    "tags": []
   },
   "outputs": [],
   "source": [
    "for data in dataset:\n",
    "    data[\"Embarked\"]=data[\"Embarked\"].fillna(\"S\")"
   ]
  },
  {
   "cell_type": "markdown",
   "id": "35ec6976",
   "metadata": {
    "papermill": {
     "duration": 0.052945,
     "end_time": "2021-09-28T21:04:31.066962",
     "exception": false,
     "start_time": "2021-09-28T21:04:31.014017",
     "status": "completed"
    },
    "tags": []
   },
   "source": [
    "**Handling the missing value**"
   ]
  },
  {
   "cell_type": "code",
   "execution_count": 28,
   "id": "57510c3a",
   "metadata": {
    "execution": {
     "iopub.execute_input": "2021-09-28T21:04:31.189644Z",
     "iopub.status.busy": "2021-09-28T21:04:31.188607Z",
     "iopub.status.idle": "2021-09-28T21:04:31.191856Z",
     "shell.execute_reply": "2021-09-28T21:04:31.191367Z",
     "shell.execute_reply.started": "2021-09-28T20:57:37.067729Z"
    },
    "papermill": {
     "duration": 0.06762,
     "end_time": "2021-09-28T21:04:31.192055",
     "exception": false,
     "start_time": "2021-09-28T21:04:31.124435",
     "status": "completed"
    },
    "tags": []
   },
   "outputs": [],
   "source": [
    "train[\"Has_Cabin\"]=train[\"Cabin\"].apply(lambda x:0 if type(x)==float else 1)\n",
    "test[\"Has_Cabin\"]=train[\"Cabin\"].apply(lambda x:0 if type(x)==float else 1)"
   ]
  },
  {
   "cell_type": "markdown",
   "id": "93f65546",
   "metadata": {
    "execution": {
     "iopub.execute_input": "2021-09-28T18:06:05.875234Z",
     "iopub.status.busy": "2021-09-28T18:06:05.874326Z",
     "iopub.status.idle": "2021-09-28T18:06:05.890445Z",
     "shell.execute_reply": "2021-09-28T18:06:05.889431Z",
     "shell.execute_reply.started": "2021-09-28T18:06:05.875191Z"
    },
    "papermill": {
     "duration": 0.052576,
     "end_time": "2021-09-28T21:04:31.297598",
     "exception": false,
     "start_time": "2021-09-28T21:04:31.245022",
     "status": "completed"
    },
    "tags": []
   },
   "source": [
    "**we will see who has Cabin**"
   ]
  },
  {
   "cell_type": "code",
   "execution_count": 29,
   "id": "424c2a9a",
   "metadata": {
    "execution": {
     "iopub.execute_input": "2021-09-28T21:04:31.425070Z",
     "iopub.status.busy": "2021-09-28T21:04:31.418997Z",
     "iopub.status.idle": "2021-09-28T21:04:31.436535Z",
     "shell.execute_reply": "2021-09-28T21:04:31.435796Z",
     "shell.execute_reply.started": "2021-09-28T20:57:38.101606Z"
    },
    "papermill": {
     "duration": 0.083952,
     "end_time": "2021-09-28T21:04:31.436701",
     "exception": false,
     "start_time": "2021-09-28T21:04:31.352749",
     "status": "completed"
    },
    "tags": []
   },
   "outputs": [
    {
     "data": {
      "text/html": [
       "<div>\n",
       "<style scoped>\n",
       "    .dataframe tbody tr th:only-of-type {\n",
       "        vertical-align: middle;\n",
       "    }\n",
       "\n",
       "    .dataframe tbody tr th {\n",
       "        vertical-align: top;\n",
       "    }\n",
       "\n",
       "    .dataframe thead th {\n",
       "        text-align: right;\n",
       "    }\n",
       "</style>\n",
       "<table border=\"1\" class=\"dataframe\">\n",
       "  <thead>\n",
       "    <tr style=\"text-align: right;\">\n",
       "      <th></th>\n",
       "      <th>PassengerId</th>\n",
       "      <th>Survived</th>\n",
       "      <th>Pclass</th>\n",
       "      <th>Name</th>\n",
       "      <th>Sex</th>\n",
       "      <th>Age</th>\n",
       "      <th>SibSp</th>\n",
       "      <th>Parch</th>\n",
       "      <th>Ticket</th>\n",
       "      <th>Fare</th>\n",
       "      <th>Cabin</th>\n",
       "      <th>Embarked</th>\n",
       "      <th>Category_feature</th>\n",
       "      <th>Category_age</th>\n",
       "      <th>Family_size</th>\n",
       "      <th>IsAlone</th>\n",
       "      <th>ticket_type</th>\n",
       "      <th>Has_Cabin</th>\n",
       "    </tr>\n",
       "  </thead>\n",
       "  <tbody>\n",
       "    <tr>\n",
       "      <th>0</th>\n",
       "      <td>1</td>\n",
       "      <td>0</td>\n",
       "      <td>3</td>\n",
       "      <td>Braund, Mr. Owen Harris</td>\n",
       "      <td>male</td>\n",
       "      <td>1</td>\n",
       "      <td>1</td>\n",
       "      <td>0</td>\n",
       "      <td>A/5 21171</td>\n",
       "      <td>0</td>\n",
       "      <td>NaN</td>\n",
       "      <td>S</td>\n",
       "      <td>(-0.001, 7.91]</td>\n",
       "      <td>(19.0, 25.0]</td>\n",
       "      <td>2</td>\n",
       "      <td>0</td>\n",
       "      <td>124</td>\n",
       "      <td>0</td>\n",
       "    </tr>\n",
       "    <tr>\n",
       "      <th>1</th>\n",
       "      <td>2</td>\n",
       "      <td>1</td>\n",
       "      <td>1</td>\n",
       "      <td>Cumings, Mrs. John Bradley (Florence Briggs Th...</td>\n",
       "      <td>female</td>\n",
       "      <td>3</td>\n",
       "      <td>1</td>\n",
       "      <td>0</td>\n",
       "      <td>PC 17599</td>\n",
       "      <td>3</td>\n",
       "      <td>C85</td>\n",
       "      <td>C</td>\n",
       "      <td>(31.0, 512.329]</td>\n",
       "      <td>(32.0, 40.0]</td>\n",
       "      <td>2</td>\n",
       "      <td>0</td>\n",
       "      <td>137</td>\n",
       "      <td>1</td>\n",
       "    </tr>\n",
       "    <tr>\n",
       "      <th>2</th>\n",
       "      <td>3</td>\n",
       "      <td>1</td>\n",
       "      <td>3</td>\n",
       "      <td>Heikkinen, Miss. Laina</td>\n",
       "      <td>female</td>\n",
       "      <td>2</td>\n",
       "      <td>0</td>\n",
       "      <td>0</td>\n",
       "      <td>STON/O2. 3101282</td>\n",
       "      <td>1</td>\n",
       "      <td>NaN</td>\n",
       "      <td>S</td>\n",
       "      <td>(7.91, 14.454]</td>\n",
       "      <td>(25.0, 32.0]</td>\n",
       "      <td>1</td>\n",
       "      <td>1</td>\n",
       "      <td>148</td>\n",
       "      <td>0</td>\n",
       "    </tr>\n",
       "    <tr>\n",
       "      <th>3</th>\n",
       "      <td>4</td>\n",
       "      <td>1</td>\n",
       "      <td>1</td>\n",
       "      <td>Futrelle, Mrs. Jacques Heath (Lily May Peel)</td>\n",
       "      <td>female</td>\n",
       "      <td>3</td>\n",
       "      <td>1</td>\n",
       "      <td>0</td>\n",
       "      <td>113803</td>\n",
       "      <td>3</td>\n",
       "      <td>C123</td>\n",
       "      <td>S</td>\n",
       "      <td>(31.0, 512.329]</td>\n",
       "      <td>(32.0, 40.0]</td>\n",
       "      <td>2</td>\n",
       "      <td>0</td>\n",
       "      <td>3</td>\n",
       "      <td>1</td>\n",
       "    </tr>\n",
       "    <tr>\n",
       "      <th>4</th>\n",
       "      <td>5</td>\n",
       "      <td>0</td>\n",
       "      <td>3</td>\n",
       "      <td>Allen, Mr. William Henry</td>\n",
       "      <td>male</td>\n",
       "      <td>3</td>\n",
       "      <td>0</td>\n",
       "      <td>0</td>\n",
       "      <td>373450</td>\n",
       "      <td>1</td>\n",
       "      <td>NaN</td>\n",
       "      <td>S</td>\n",
       "      <td>(7.91, 14.454]</td>\n",
       "      <td>(32.0, 40.0]</td>\n",
       "      <td>1</td>\n",
       "      <td>1</td>\n",
       "      <td>97</td>\n",
       "      <td>0</td>\n",
       "    </tr>\n",
       "  </tbody>\n",
       "</table>\n",
       "</div>"
      ],
      "text/plain": [
       "   PassengerId  Survived  Pclass  \\\n",
       "0            1         0       3   \n",
       "1            2         1       1   \n",
       "2            3         1       3   \n",
       "3            4         1       1   \n",
       "4            5         0       3   \n",
       "\n",
       "                                                Name     Sex  Age  SibSp  \\\n",
       "0                            Braund, Mr. Owen Harris    male    1      1   \n",
       "1  Cumings, Mrs. John Bradley (Florence Briggs Th...  female    3      1   \n",
       "2                             Heikkinen, Miss. Laina  female    2      0   \n",
       "3       Futrelle, Mrs. Jacques Heath (Lily May Peel)  female    3      1   \n",
       "4                           Allen, Mr. William Henry    male    3      0   \n",
       "\n",
       "   Parch            Ticket  Fare Cabin Embarked Category_feature  \\\n",
       "0      0         A/5 21171     0   NaN        S   (-0.001, 7.91]   \n",
       "1      0          PC 17599     3   C85        C  (31.0, 512.329]   \n",
       "2      0  STON/O2. 3101282     1   NaN        S   (7.91, 14.454]   \n",
       "3      0            113803     3  C123        S  (31.0, 512.329]   \n",
       "4      0            373450     1   NaN        S   (7.91, 14.454]   \n",
       "\n",
       "   Category_age  Family_size  IsAlone  ticket_type  Has_Cabin  \n",
       "0  (19.0, 25.0]            2        0          124          0  \n",
       "1  (32.0, 40.0]            2        0          137          1  \n",
       "2  (25.0, 32.0]            1        1          148          0  \n",
       "3  (32.0, 40.0]            2        0            3          1  \n",
       "4  (32.0, 40.0]            1        1           97          0  "
      ]
     },
     "execution_count": 29,
     "metadata": {},
     "output_type": "execute_result"
    }
   ],
   "source": [
    "train.head()"
   ]
  },
  {
   "cell_type": "code",
   "execution_count": 30,
   "id": "03e655f5",
   "metadata": {
    "execution": {
     "iopub.execute_input": "2021-09-28T21:04:31.559318Z",
     "iopub.status.busy": "2021-09-28T21:04:31.554025Z",
     "iopub.status.idle": "2021-09-28T21:04:31.562917Z",
     "shell.execute_reply": "2021-09-28T21:04:31.562355Z",
     "shell.execute_reply.started": "2021-09-28T20:57:38.255078Z"
    },
    "papermill": {
     "duration": 0.069986,
     "end_time": "2021-09-28T21:04:31.563078",
     "exception": false,
     "start_time": "2021-09-28T21:04:31.493092",
     "status": "completed"
    },
    "tags": []
   },
   "outputs": [],
   "source": [
    "for data in dataset:\n",
    "    data[\"Sex\"]=data[\"Sex\"].map({\"male\":1,\"female\":0})"
   ]
  },
  {
   "cell_type": "code",
   "execution_count": 31,
   "id": "74e6fb8d",
   "metadata": {
    "execution": {
     "iopub.execute_input": "2021-09-28T21:04:31.694685Z",
     "iopub.status.busy": "2021-09-28T21:04:31.694048Z",
     "iopub.status.idle": "2021-09-28T21:04:31.698801Z",
     "shell.execute_reply": "2021-09-28T21:04:31.698215Z",
     "shell.execute_reply.started": "2021-09-28T20:57:38.442149Z"
    },
    "papermill": {
     "duration": 0.07565,
     "end_time": "2021-09-28T21:04:31.698973",
     "exception": false,
     "start_time": "2021-09-28T21:04:31.623323",
     "status": "completed"
    },
    "tags": []
   },
   "outputs": [
    {
     "data": {
      "text/html": [
       "<div>\n",
       "<style scoped>\n",
       "    .dataframe tbody tr th:only-of-type {\n",
       "        vertical-align: middle;\n",
       "    }\n",
       "\n",
       "    .dataframe tbody tr th {\n",
       "        vertical-align: top;\n",
       "    }\n",
       "\n",
       "    .dataframe thead th {\n",
       "        text-align: right;\n",
       "    }\n",
       "</style>\n",
       "<table border=\"1\" class=\"dataframe\">\n",
       "  <thead>\n",
       "    <tr style=\"text-align: right;\">\n",
       "      <th></th>\n",
       "      <th>PassengerId</th>\n",
       "      <th>Survived</th>\n",
       "      <th>Pclass</th>\n",
       "      <th>Name</th>\n",
       "      <th>Sex</th>\n",
       "      <th>Age</th>\n",
       "      <th>SibSp</th>\n",
       "      <th>Parch</th>\n",
       "      <th>Ticket</th>\n",
       "      <th>Fare</th>\n",
       "      <th>Cabin</th>\n",
       "      <th>Embarked</th>\n",
       "      <th>Category_feature</th>\n",
       "      <th>Category_age</th>\n",
       "      <th>Family_size</th>\n",
       "      <th>IsAlone</th>\n",
       "      <th>ticket_type</th>\n",
       "      <th>Has_Cabin</th>\n",
       "    </tr>\n",
       "  </thead>\n",
       "  <tbody>\n",
       "    <tr>\n",
       "      <th>0</th>\n",
       "      <td>1</td>\n",
       "      <td>0</td>\n",
       "      <td>3</td>\n",
       "      <td>Braund, Mr. Owen Harris</td>\n",
       "      <td>1</td>\n",
       "      <td>1</td>\n",
       "      <td>1</td>\n",
       "      <td>0</td>\n",
       "      <td>A/5 21171</td>\n",
       "      <td>0</td>\n",
       "      <td>NaN</td>\n",
       "      <td>S</td>\n",
       "      <td>(-0.001, 7.91]</td>\n",
       "      <td>(19.0, 25.0]</td>\n",
       "      <td>2</td>\n",
       "      <td>0</td>\n",
       "      <td>124</td>\n",
       "      <td>0</td>\n",
       "    </tr>\n",
       "    <tr>\n",
       "      <th>1</th>\n",
       "      <td>2</td>\n",
       "      <td>1</td>\n",
       "      <td>1</td>\n",
       "      <td>Cumings, Mrs. John Bradley (Florence Briggs Th...</td>\n",
       "      <td>0</td>\n",
       "      <td>3</td>\n",
       "      <td>1</td>\n",
       "      <td>0</td>\n",
       "      <td>PC 17599</td>\n",
       "      <td>3</td>\n",
       "      <td>C85</td>\n",
       "      <td>C</td>\n",
       "      <td>(31.0, 512.329]</td>\n",
       "      <td>(32.0, 40.0]</td>\n",
       "      <td>2</td>\n",
       "      <td>0</td>\n",
       "      <td>137</td>\n",
       "      <td>1</td>\n",
       "    </tr>\n",
       "    <tr>\n",
       "      <th>2</th>\n",
       "      <td>3</td>\n",
       "      <td>1</td>\n",
       "      <td>3</td>\n",
       "      <td>Heikkinen, Miss. Laina</td>\n",
       "      <td>0</td>\n",
       "      <td>2</td>\n",
       "      <td>0</td>\n",
       "      <td>0</td>\n",
       "      <td>STON/O2. 3101282</td>\n",
       "      <td>1</td>\n",
       "      <td>NaN</td>\n",
       "      <td>S</td>\n",
       "      <td>(7.91, 14.454]</td>\n",
       "      <td>(25.0, 32.0]</td>\n",
       "      <td>1</td>\n",
       "      <td>1</td>\n",
       "      <td>148</td>\n",
       "      <td>0</td>\n",
       "    </tr>\n",
       "    <tr>\n",
       "      <th>3</th>\n",
       "      <td>4</td>\n",
       "      <td>1</td>\n",
       "      <td>1</td>\n",
       "      <td>Futrelle, Mrs. Jacques Heath (Lily May Peel)</td>\n",
       "      <td>0</td>\n",
       "      <td>3</td>\n",
       "      <td>1</td>\n",
       "      <td>0</td>\n",
       "      <td>113803</td>\n",
       "      <td>3</td>\n",
       "      <td>C123</td>\n",
       "      <td>S</td>\n",
       "      <td>(31.0, 512.329]</td>\n",
       "      <td>(32.0, 40.0]</td>\n",
       "      <td>2</td>\n",
       "      <td>0</td>\n",
       "      <td>3</td>\n",
       "      <td>1</td>\n",
       "    </tr>\n",
       "    <tr>\n",
       "      <th>4</th>\n",
       "      <td>5</td>\n",
       "      <td>0</td>\n",
       "      <td>3</td>\n",
       "      <td>Allen, Mr. William Henry</td>\n",
       "      <td>1</td>\n",
       "      <td>3</td>\n",
       "      <td>0</td>\n",
       "      <td>0</td>\n",
       "      <td>373450</td>\n",
       "      <td>1</td>\n",
       "      <td>NaN</td>\n",
       "      <td>S</td>\n",
       "      <td>(7.91, 14.454]</td>\n",
       "      <td>(32.0, 40.0]</td>\n",
       "      <td>1</td>\n",
       "      <td>1</td>\n",
       "      <td>97</td>\n",
       "      <td>0</td>\n",
       "    </tr>\n",
       "  </tbody>\n",
       "</table>\n",
       "</div>"
      ],
      "text/plain": [
       "   PassengerId  Survived  Pclass  \\\n",
       "0            1         0       3   \n",
       "1            2         1       1   \n",
       "2            3         1       3   \n",
       "3            4         1       1   \n",
       "4            5         0       3   \n",
       "\n",
       "                                                Name  Sex  Age  SibSp  Parch  \\\n",
       "0                            Braund, Mr. Owen Harris    1    1      1      0   \n",
       "1  Cumings, Mrs. John Bradley (Florence Briggs Th...    0    3      1      0   \n",
       "2                             Heikkinen, Miss. Laina    0    2      0      0   \n",
       "3       Futrelle, Mrs. Jacques Heath (Lily May Peel)    0    3      1      0   \n",
       "4                           Allen, Mr. William Henry    1    3      0      0   \n",
       "\n",
       "             Ticket  Fare Cabin Embarked Category_feature  Category_age  \\\n",
       "0         A/5 21171     0   NaN        S   (-0.001, 7.91]  (19.0, 25.0]   \n",
       "1          PC 17599     3   C85        C  (31.0, 512.329]  (32.0, 40.0]   \n",
       "2  STON/O2. 3101282     1   NaN        S   (7.91, 14.454]  (25.0, 32.0]   \n",
       "3            113803     3  C123        S  (31.0, 512.329]  (32.0, 40.0]   \n",
       "4            373450     1   NaN        S   (7.91, 14.454]  (32.0, 40.0]   \n",
       "\n",
       "   Family_size  IsAlone  ticket_type  Has_Cabin  \n",
       "0            2        0          124          0  \n",
       "1            2        0          137          1  \n",
       "2            1        1          148          0  \n",
       "3            2        0            3          1  \n",
       "4            1        1           97          0  "
      ]
     },
     "execution_count": 31,
     "metadata": {},
     "output_type": "execute_result"
    }
   ],
   "source": [
    "train.head()"
   ]
  },
  {
   "cell_type": "code",
   "execution_count": 32,
   "id": "e6efe0b7",
   "metadata": {
    "execution": {
     "iopub.execute_input": "2021-09-28T21:04:31.808704Z",
     "iopub.status.busy": "2021-09-28T21:04:31.807908Z",
     "iopub.status.idle": "2021-09-28T21:04:31.810998Z",
     "shell.execute_reply": "2021-09-28T21:04:31.810518Z",
     "shell.execute_reply.started": "2021-09-28T20:57:38.818190Z"
    },
    "papermill": {
     "duration": 0.05986,
     "end_time": "2021-09-28T21:04:31.811141",
     "exception": false,
     "start_time": "2021-09-28T21:04:31.751281",
     "status": "completed"
    },
    "tags": []
   },
   "outputs": [],
   "source": [
    "import re"
   ]
  },
  {
   "cell_type": "markdown",
   "id": "bb1c5ee3",
   "metadata": {
    "papermill": {
     "duration": 0.049856,
     "end_time": "2021-09-28T21:04:31.910961",
     "exception": false,
     "start_time": "2021-09-28T21:04:31.861105",
     "status": "completed"
    },
    "tags": []
   },
   "source": [
    "**As we know by EDA that female have higher ratio of survival and in the Name feature there are titles in it** *(doing extraction of title from Name column)*"
   ]
  },
  {
   "cell_type": "code",
   "execution_count": 33,
   "id": "67fee4f4",
   "metadata": {
    "execution": {
     "iopub.execute_input": "2021-09-28T21:04:32.020628Z",
     "iopub.status.busy": "2021-09-28T21:04:32.019994Z",
     "iopub.status.idle": "2021-09-28T21:04:32.023694Z",
     "shell.execute_reply": "2021-09-28T21:04:32.023119Z",
     "shell.execute_reply.started": "2021-09-28T20:57:39.876434Z"
    },
    "papermill": {
     "duration": 0.062358,
     "end_time": "2021-09-28T21:04:32.023833",
     "exception": false,
     "start_time": "2021-09-28T21:04:31.961475",
     "status": "completed"
    },
    "tags": []
   },
   "outputs": [],
   "source": [
    "def title_seacrh(name):\n",
    "    title_search=re.search('([A-Za-z]+)\\.',name)\n",
    "    if title_search:\n",
    "        return title_search.group(1)\n",
    "    return \"\"\n"
   ]
  },
  {
   "cell_type": "code",
   "execution_count": 34,
   "id": "555bc5ff",
   "metadata": {
    "execution": {
     "iopub.execute_input": "2021-09-28T21:04:32.137342Z",
     "iopub.status.busy": "2021-09-28T21:04:32.136605Z",
     "iopub.status.idle": "2021-09-28T21:04:32.140910Z",
     "shell.execute_reply": "2021-09-28T21:04:32.140321Z",
     "shell.execute_reply.started": "2021-09-28T20:57:40.314998Z"
    },
    "papermill": {
     "duration": 0.066535,
     "end_time": "2021-09-28T21:04:32.141048",
     "exception": false,
     "start_time": "2021-09-28T21:04:32.074513",
     "status": "completed"
    },
    "tags": []
   },
   "outputs": [],
   "source": [
    "for data in dataset:\n",
    "    data[\"title\"]=data[\"Name\"].apply(title_seacrh)"
   ]
  },
  {
   "cell_type": "code",
   "execution_count": 35,
   "id": "1d124595",
   "metadata": {
    "execution": {
     "iopub.execute_input": "2021-09-28T21:04:32.263797Z",
     "iopub.status.busy": "2021-09-28T21:04:32.256039Z",
     "iopub.status.idle": "2021-09-28T21:04:32.269020Z",
     "shell.execute_reply": "2021-09-28T21:04:32.268179Z",
     "shell.execute_reply.started": "2021-09-28T20:57:41.250168Z"
    },
    "papermill": {
     "duration": 0.077455,
     "end_time": "2021-09-28T21:04:32.269209",
     "exception": false,
     "start_time": "2021-09-28T21:04:32.191754",
     "status": "completed"
    },
    "tags": []
   },
   "outputs": [
    {
     "data": {
      "text/html": [
       "<div>\n",
       "<style scoped>\n",
       "    .dataframe tbody tr th:only-of-type {\n",
       "        vertical-align: middle;\n",
       "    }\n",
       "\n",
       "    .dataframe tbody tr th {\n",
       "        vertical-align: top;\n",
       "    }\n",
       "\n",
       "    .dataframe thead th {\n",
       "        text-align: right;\n",
       "    }\n",
       "</style>\n",
       "<table border=\"1\" class=\"dataframe\">\n",
       "  <thead>\n",
       "    <tr style=\"text-align: right;\">\n",
       "      <th></th>\n",
       "      <th>PassengerId</th>\n",
       "      <th>Survived</th>\n",
       "      <th>Pclass</th>\n",
       "      <th>Name</th>\n",
       "      <th>Sex</th>\n",
       "      <th>Age</th>\n",
       "      <th>SibSp</th>\n",
       "      <th>Parch</th>\n",
       "      <th>Ticket</th>\n",
       "      <th>Fare</th>\n",
       "      <th>Cabin</th>\n",
       "      <th>Embarked</th>\n",
       "      <th>Category_feature</th>\n",
       "      <th>Category_age</th>\n",
       "      <th>Family_size</th>\n",
       "      <th>IsAlone</th>\n",
       "      <th>ticket_type</th>\n",
       "      <th>Has_Cabin</th>\n",
       "      <th>title</th>\n",
       "    </tr>\n",
       "  </thead>\n",
       "  <tbody>\n",
       "    <tr>\n",
       "      <th>0</th>\n",
       "      <td>1</td>\n",
       "      <td>0</td>\n",
       "      <td>3</td>\n",
       "      <td>Braund, Mr. Owen Harris</td>\n",
       "      <td>1</td>\n",
       "      <td>1</td>\n",
       "      <td>1</td>\n",
       "      <td>0</td>\n",
       "      <td>A/5 21171</td>\n",
       "      <td>0</td>\n",
       "      <td>NaN</td>\n",
       "      <td>S</td>\n",
       "      <td>(-0.001, 7.91]</td>\n",
       "      <td>(19.0, 25.0]</td>\n",
       "      <td>2</td>\n",
       "      <td>0</td>\n",
       "      <td>124</td>\n",
       "      <td>0</td>\n",
       "      <td>Mr</td>\n",
       "    </tr>\n",
       "    <tr>\n",
       "      <th>1</th>\n",
       "      <td>2</td>\n",
       "      <td>1</td>\n",
       "      <td>1</td>\n",
       "      <td>Cumings, Mrs. John Bradley (Florence Briggs Th...</td>\n",
       "      <td>0</td>\n",
       "      <td>3</td>\n",
       "      <td>1</td>\n",
       "      <td>0</td>\n",
       "      <td>PC 17599</td>\n",
       "      <td>3</td>\n",
       "      <td>C85</td>\n",
       "      <td>C</td>\n",
       "      <td>(31.0, 512.329]</td>\n",
       "      <td>(32.0, 40.0]</td>\n",
       "      <td>2</td>\n",
       "      <td>0</td>\n",
       "      <td>137</td>\n",
       "      <td>1</td>\n",
       "      <td>Mrs</td>\n",
       "    </tr>\n",
       "    <tr>\n",
       "      <th>2</th>\n",
       "      <td>3</td>\n",
       "      <td>1</td>\n",
       "      <td>3</td>\n",
       "      <td>Heikkinen, Miss. Laina</td>\n",
       "      <td>0</td>\n",
       "      <td>2</td>\n",
       "      <td>0</td>\n",
       "      <td>0</td>\n",
       "      <td>STON/O2. 3101282</td>\n",
       "      <td>1</td>\n",
       "      <td>NaN</td>\n",
       "      <td>S</td>\n",
       "      <td>(7.91, 14.454]</td>\n",
       "      <td>(25.0, 32.0]</td>\n",
       "      <td>1</td>\n",
       "      <td>1</td>\n",
       "      <td>148</td>\n",
       "      <td>0</td>\n",
       "      <td>Miss</td>\n",
       "    </tr>\n",
       "    <tr>\n",
       "      <th>3</th>\n",
       "      <td>4</td>\n",
       "      <td>1</td>\n",
       "      <td>1</td>\n",
       "      <td>Futrelle, Mrs. Jacques Heath (Lily May Peel)</td>\n",
       "      <td>0</td>\n",
       "      <td>3</td>\n",
       "      <td>1</td>\n",
       "      <td>0</td>\n",
       "      <td>113803</td>\n",
       "      <td>3</td>\n",
       "      <td>C123</td>\n",
       "      <td>S</td>\n",
       "      <td>(31.0, 512.329]</td>\n",
       "      <td>(32.0, 40.0]</td>\n",
       "      <td>2</td>\n",
       "      <td>0</td>\n",
       "      <td>3</td>\n",
       "      <td>1</td>\n",
       "      <td>Mrs</td>\n",
       "    </tr>\n",
       "    <tr>\n",
       "      <th>4</th>\n",
       "      <td>5</td>\n",
       "      <td>0</td>\n",
       "      <td>3</td>\n",
       "      <td>Allen, Mr. William Henry</td>\n",
       "      <td>1</td>\n",
       "      <td>3</td>\n",
       "      <td>0</td>\n",
       "      <td>0</td>\n",
       "      <td>373450</td>\n",
       "      <td>1</td>\n",
       "      <td>NaN</td>\n",
       "      <td>S</td>\n",
       "      <td>(7.91, 14.454]</td>\n",
       "      <td>(32.0, 40.0]</td>\n",
       "      <td>1</td>\n",
       "      <td>1</td>\n",
       "      <td>97</td>\n",
       "      <td>0</td>\n",
       "      <td>Mr</td>\n",
       "    </tr>\n",
       "  </tbody>\n",
       "</table>\n",
       "</div>"
      ],
      "text/plain": [
       "   PassengerId  Survived  Pclass  \\\n",
       "0            1         0       3   \n",
       "1            2         1       1   \n",
       "2            3         1       3   \n",
       "3            4         1       1   \n",
       "4            5         0       3   \n",
       "\n",
       "                                                Name  Sex  Age  SibSp  Parch  \\\n",
       "0                            Braund, Mr. Owen Harris    1    1      1      0   \n",
       "1  Cumings, Mrs. John Bradley (Florence Briggs Th...    0    3      1      0   \n",
       "2                             Heikkinen, Miss. Laina    0    2      0      0   \n",
       "3       Futrelle, Mrs. Jacques Heath (Lily May Peel)    0    3      1      0   \n",
       "4                           Allen, Mr. William Henry    1    3      0      0   \n",
       "\n",
       "             Ticket  Fare Cabin Embarked Category_feature  Category_age  \\\n",
       "0         A/5 21171     0   NaN        S   (-0.001, 7.91]  (19.0, 25.0]   \n",
       "1          PC 17599     3   C85        C  (31.0, 512.329]  (32.0, 40.0]   \n",
       "2  STON/O2. 3101282     1   NaN        S   (7.91, 14.454]  (25.0, 32.0]   \n",
       "3            113803     3  C123        S  (31.0, 512.329]  (32.0, 40.0]   \n",
       "4            373450     1   NaN        S   (7.91, 14.454]  (32.0, 40.0]   \n",
       "\n",
       "   Family_size  IsAlone  ticket_type  Has_Cabin title  \n",
       "0            2        0          124          0    Mr  \n",
       "1            2        0          137          1   Mrs  \n",
       "2            1        1          148          0  Miss  \n",
       "3            2        0            3          1   Mrs  \n",
       "4            1        1           97          0    Mr  "
      ]
     },
     "execution_count": 35,
     "metadata": {},
     "output_type": "execute_result"
    }
   ],
   "source": [
    "dataset[0].head()"
   ]
  },
  {
   "cell_type": "code",
   "execution_count": 36,
   "id": "58958ca6",
   "metadata": {
    "execution": {
     "iopub.execute_input": "2021-09-28T21:04:32.389111Z",
     "iopub.status.busy": "2021-09-28T21:04:32.386495Z",
     "iopub.status.idle": "2021-09-28T21:04:32.396390Z",
     "shell.execute_reply": "2021-09-28T21:04:32.395794Z",
     "shell.execute_reply.started": "2021-09-28T20:57:41.740969Z"
    },
    "papermill": {
     "duration": 0.071372,
     "end_time": "2021-09-28T21:04:32.396550",
     "exception": false,
     "start_time": "2021-09-28T21:04:32.325178",
     "status": "completed"
    },
    "tags": []
   },
   "outputs": [],
   "source": [
    "for data in dataset:\n",
    "    data[\"title\"].replace(['Lady', 'Countess','Capt', 'Col','Don', 'Dr', 'Major', 'Rev', 'Sir', 'Jonkheer', 'Dona'],\"Rare\",inplace=True)\n",
    "    data[\"title\"].replace({\"Mlle\":\"Miss\",\"Mme\":\"Miss\",\"Ms\":\"Mrs\"},inplace=True)"
   ]
  },
  {
   "cell_type": "code",
   "execution_count": 37,
   "id": "3b4759a9",
   "metadata": {
    "execution": {
     "iopub.execute_input": "2021-09-28T21:04:32.521090Z",
     "iopub.status.busy": "2021-09-28T21:04:32.520109Z",
     "iopub.status.idle": "2021-09-28T21:04:32.547127Z",
     "shell.execute_reply": "2021-09-28T21:04:32.547597Z",
     "shell.execute_reply.started": "2021-09-28T20:57:42.767490Z"
    },
    "papermill": {
     "duration": 0.097738,
     "end_time": "2021-09-28T21:04:32.547851",
     "exception": false,
     "start_time": "2021-09-28T21:04:32.450113",
     "status": "completed"
    },
    "tags": []
   },
   "outputs": [
    {
     "data": {
      "text/html": [
       "<div>\n",
       "<style scoped>\n",
       "    .dataframe tbody tr th:only-of-type {\n",
       "        vertical-align: middle;\n",
       "    }\n",
       "\n",
       "    .dataframe tbody tr th {\n",
       "        vertical-align: top;\n",
       "    }\n",
       "\n",
       "    .dataframe thead th {\n",
       "        text-align: right;\n",
       "    }\n",
       "</style>\n",
       "<table border=\"1\" class=\"dataframe\">\n",
       "  <thead>\n",
       "    <tr style=\"text-align: right;\">\n",
       "      <th></th>\n",
       "      <th>PassengerId</th>\n",
       "      <th>Survived</th>\n",
       "      <th>Pclass</th>\n",
       "      <th>Name</th>\n",
       "      <th>Sex</th>\n",
       "      <th>Age</th>\n",
       "      <th>SibSp</th>\n",
       "      <th>Parch</th>\n",
       "      <th>Ticket</th>\n",
       "      <th>Fare</th>\n",
       "      <th>Cabin</th>\n",
       "      <th>Embarked</th>\n",
       "      <th>Category_feature</th>\n",
       "      <th>Category_age</th>\n",
       "      <th>Family_size</th>\n",
       "      <th>IsAlone</th>\n",
       "      <th>ticket_type</th>\n",
       "      <th>Has_Cabin</th>\n",
       "      <th>title</th>\n",
       "    </tr>\n",
       "  </thead>\n",
       "  <tbody>\n",
       "    <tr>\n",
       "      <th>0</th>\n",
       "      <td>1</td>\n",
       "      <td>0</td>\n",
       "      <td>3</td>\n",
       "      <td>Braund, Mr. Owen Harris</td>\n",
       "      <td>1</td>\n",
       "      <td>1</td>\n",
       "      <td>1</td>\n",
       "      <td>0</td>\n",
       "      <td>A/5 21171</td>\n",
       "      <td>0</td>\n",
       "      <td>NaN</td>\n",
       "      <td>S</td>\n",
       "      <td>(-0.001, 7.91]</td>\n",
       "      <td>(19.0, 25.0]</td>\n",
       "      <td>2</td>\n",
       "      <td>0</td>\n",
       "      <td>124</td>\n",
       "      <td>0</td>\n",
       "      <td>Mr</td>\n",
       "    </tr>\n",
       "    <tr>\n",
       "      <th>1</th>\n",
       "      <td>2</td>\n",
       "      <td>1</td>\n",
       "      <td>1</td>\n",
       "      <td>Cumings, Mrs. John Bradley (Florence Briggs Th...</td>\n",
       "      <td>0</td>\n",
       "      <td>3</td>\n",
       "      <td>1</td>\n",
       "      <td>0</td>\n",
       "      <td>PC 17599</td>\n",
       "      <td>3</td>\n",
       "      <td>C85</td>\n",
       "      <td>C</td>\n",
       "      <td>(31.0, 512.329]</td>\n",
       "      <td>(32.0, 40.0]</td>\n",
       "      <td>2</td>\n",
       "      <td>0</td>\n",
       "      <td>137</td>\n",
       "      <td>1</td>\n",
       "      <td>Mrs</td>\n",
       "    </tr>\n",
       "    <tr>\n",
       "      <th>2</th>\n",
       "      <td>3</td>\n",
       "      <td>1</td>\n",
       "      <td>3</td>\n",
       "      <td>Heikkinen, Miss. Laina</td>\n",
       "      <td>0</td>\n",
       "      <td>2</td>\n",
       "      <td>0</td>\n",
       "      <td>0</td>\n",
       "      <td>STON/O2. 3101282</td>\n",
       "      <td>1</td>\n",
       "      <td>NaN</td>\n",
       "      <td>S</td>\n",
       "      <td>(7.91, 14.454]</td>\n",
       "      <td>(25.0, 32.0]</td>\n",
       "      <td>1</td>\n",
       "      <td>1</td>\n",
       "      <td>148</td>\n",
       "      <td>0</td>\n",
       "      <td>Miss</td>\n",
       "    </tr>\n",
       "    <tr>\n",
       "      <th>3</th>\n",
       "      <td>4</td>\n",
       "      <td>1</td>\n",
       "      <td>1</td>\n",
       "      <td>Futrelle, Mrs. Jacques Heath (Lily May Peel)</td>\n",
       "      <td>0</td>\n",
       "      <td>3</td>\n",
       "      <td>1</td>\n",
       "      <td>0</td>\n",
       "      <td>113803</td>\n",
       "      <td>3</td>\n",
       "      <td>C123</td>\n",
       "      <td>S</td>\n",
       "      <td>(31.0, 512.329]</td>\n",
       "      <td>(32.0, 40.0]</td>\n",
       "      <td>2</td>\n",
       "      <td>0</td>\n",
       "      <td>3</td>\n",
       "      <td>1</td>\n",
       "      <td>Mrs</td>\n",
       "    </tr>\n",
       "    <tr>\n",
       "      <th>4</th>\n",
       "      <td>5</td>\n",
       "      <td>0</td>\n",
       "      <td>3</td>\n",
       "      <td>Allen, Mr. William Henry</td>\n",
       "      <td>1</td>\n",
       "      <td>3</td>\n",
       "      <td>0</td>\n",
       "      <td>0</td>\n",
       "      <td>373450</td>\n",
       "      <td>1</td>\n",
       "      <td>NaN</td>\n",
       "      <td>S</td>\n",
       "      <td>(7.91, 14.454]</td>\n",
       "      <td>(32.0, 40.0]</td>\n",
       "      <td>1</td>\n",
       "      <td>1</td>\n",
       "      <td>97</td>\n",
       "      <td>0</td>\n",
       "      <td>Mr</td>\n",
       "    </tr>\n",
       "    <tr>\n",
       "      <th>...</th>\n",
       "      <td>...</td>\n",
       "      <td>...</td>\n",
       "      <td>...</td>\n",
       "      <td>...</td>\n",
       "      <td>...</td>\n",
       "      <td>...</td>\n",
       "      <td>...</td>\n",
       "      <td>...</td>\n",
       "      <td>...</td>\n",
       "      <td>...</td>\n",
       "      <td>...</td>\n",
       "      <td>...</td>\n",
       "      <td>...</td>\n",
       "      <td>...</td>\n",
       "      <td>...</td>\n",
       "      <td>...</td>\n",
       "      <td>...</td>\n",
       "      <td>...</td>\n",
       "      <td>...</td>\n",
       "    </tr>\n",
       "    <tr>\n",
       "      <th>886</th>\n",
       "      <td>887</td>\n",
       "      <td>0</td>\n",
       "      <td>2</td>\n",
       "      <td>Montvila, Rev. Juozas</td>\n",
       "      <td>1</td>\n",
       "      <td>2</td>\n",
       "      <td>0</td>\n",
       "      <td>0</td>\n",
       "      <td>211536</td>\n",
       "      <td>1</td>\n",
       "      <td>NaN</td>\n",
       "      <td>S</td>\n",
       "      <td>(7.91, 14.454]</td>\n",
       "      <td>(25.0, 32.0]</td>\n",
       "      <td>1</td>\n",
       "      <td>1</td>\n",
       "      <td>23</td>\n",
       "      <td>0</td>\n",
       "      <td>Rare</td>\n",
       "    </tr>\n",
       "    <tr>\n",
       "      <th>887</th>\n",
       "      <td>888</td>\n",
       "      <td>1</td>\n",
       "      <td>1</td>\n",
       "      <td>Graham, Miss. Margaret Edith</td>\n",
       "      <td>0</td>\n",
       "      <td>0</td>\n",
       "      <td>0</td>\n",
       "      <td>0</td>\n",
       "      <td>112053</td>\n",
       "      <td>2</td>\n",
       "      <td>B42</td>\n",
       "      <td>S</td>\n",
       "      <td>(14.454, 31.0]</td>\n",
       "      <td>(-0.001, 19.0]</td>\n",
       "      <td>1</td>\n",
       "      <td>1</td>\n",
       "      <td>2</td>\n",
       "      <td>1</td>\n",
       "      <td>Miss</td>\n",
       "    </tr>\n",
       "    <tr>\n",
       "      <th>888</th>\n",
       "      <td>889</td>\n",
       "      <td>0</td>\n",
       "      <td>3</td>\n",
       "      <td>Johnston, Miss. Catherine Helen \"Carrie\"</td>\n",
       "      <td>0</td>\n",
       "      <td>4</td>\n",
       "      <td>1</td>\n",
       "      <td>2</td>\n",
       "      <td>W./C. 6607</td>\n",
       "      <td>2</td>\n",
       "      <td>NaN</td>\n",
       "      <td>S</td>\n",
       "      <td>(14.454, 31.0]</td>\n",
       "      <td>(40.0, 80.0]</td>\n",
       "      <td>4</td>\n",
       "      <td>0</td>\n",
       "      <td>150</td>\n",
       "      <td>0</td>\n",
       "      <td>Miss</td>\n",
       "    </tr>\n",
       "    <tr>\n",
       "      <th>889</th>\n",
       "      <td>890</td>\n",
       "      <td>1</td>\n",
       "      <td>1</td>\n",
       "      <td>Behr, Mr. Karl Howell</td>\n",
       "      <td>1</td>\n",
       "      <td>2</td>\n",
       "      <td>0</td>\n",
       "      <td>0</td>\n",
       "      <td>111369</td>\n",
       "      <td>2</td>\n",
       "      <td>C148</td>\n",
       "      <td>C</td>\n",
       "      <td>(14.454, 31.0]</td>\n",
       "      <td>(25.0, 32.0]</td>\n",
       "      <td>1</td>\n",
       "      <td>1</td>\n",
       "      <td>1</td>\n",
       "      <td>1</td>\n",
       "      <td>Mr</td>\n",
       "    </tr>\n",
       "    <tr>\n",
       "      <th>890</th>\n",
       "      <td>891</td>\n",
       "      <td>0</td>\n",
       "      <td>3</td>\n",
       "      <td>Dooley, Mr. Patrick</td>\n",
       "      <td>1</td>\n",
       "      <td>3</td>\n",
       "      <td>0</td>\n",
       "      <td>0</td>\n",
       "      <td>370376</td>\n",
       "      <td>0</td>\n",
       "      <td>NaN</td>\n",
       "      <td>Q</td>\n",
       "      <td>(-0.001, 7.91]</td>\n",
       "      <td>(25.0, 32.0]</td>\n",
       "      <td>1</td>\n",
       "      <td>1</td>\n",
       "      <td>94</td>\n",
       "      <td>0</td>\n",
       "      <td>Mr</td>\n",
       "    </tr>\n",
       "  </tbody>\n",
       "</table>\n",
       "<p>891 rows × 19 columns</p>\n",
       "</div>"
      ],
      "text/plain": [
       "     PassengerId  Survived  Pclass  \\\n",
       "0              1         0       3   \n",
       "1              2         1       1   \n",
       "2              3         1       3   \n",
       "3              4         1       1   \n",
       "4              5         0       3   \n",
       "..           ...       ...     ...   \n",
       "886          887         0       2   \n",
       "887          888         1       1   \n",
       "888          889         0       3   \n",
       "889          890         1       1   \n",
       "890          891         0       3   \n",
       "\n",
       "                                                  Name  Sex  Age  SibSp  \\\n",
       "0                              Braund, Mr. Owen Harris    1    1      1   \n",
       "1    Cumings, Mrs. John Bradley (Florence Briggs Th...    0    3      1   \n",
       "2                               Heikkinen, Miss. Laina    0    2      0   \n",
       "3         Futrelle, Mrs. Jacques Heath (Lily May Peel)    0    3      1   \n",
       "4                             Allen, Mr. William Henry    1    3      0   \n",
       "..                                                 ...  ...  ...    ...   \n",
       "886                              Montvila, Rev. Juozas    1    2      0   \n",
       "887                       Graham, Miss. Margaret Edith    0    0      0   \n",
       "888           Johnston, Miss. Catherine Helen \"Carrie\"    0    4      1   \n",
       "889                              Behr, Mr. Karl Howell    1    2      0   \n",
       "890                                Dooley, Mr. Patrick    1    3      0   \n",
       "\n",
       "     Parch            Ticket  Fare Cabin Embarked Category_feature  \\\n",
       "0        0         A/5 21171     0   NaN        S   (-0.001, 7.91]   \n",
       "1        0          PC 17599     3   C85        C  (31.0, 512.329]   \n",
       "2        0  STON/O2. 3101282     1   NaN        S   (7.91, 14.454]   \n",
       "3        0            113803     3  C123        S  (31.0, 512.329]   \n",
       "4        0            373450     1   NaN        S   (7.91, 14.454]   \n",
       "..     ...               ...   ...   ...      ...              ...   \n",
       "886      0            211536     1   NaN        S   (7.91, 14.454]   \n",
       "887      0            112053     2   B42        S   (14.454, 31.0]   \n",
       "888      2        W./C. 6607     2   NaN        S   (14.454, 31.0]   \n",
       "889      0            111369     2  C148        C   (14.454, 31.0]   \n",
       "890      0            370376     0   NaN        Q   (-0.001, 7.91]   \n",
       "\n",
       "       Category_age  Family_size  IsAlone  ticket_type  Has_Cabin title  \n",
       "0      (19.0, 25.0]            2        0          124          0    Mr  \n",
       "1      (32.0, 40.0]            2        0          137          1   Mrs  \n",
       "2      (25.0, 32.0]            1        1          148          0  Miss  \n",
       "3      (32.0, 40.0]            2        0            3          1   Mrs  \n",
       "4      (32.0, 40.0]            1        1           97          0    Mr  \n",
       "..              ...          ...      ...          ...        ...   ...  \n",
       "886    (25.0, 32.0]            1        1           23          0  Rare  \n",
       "887  (-0.001, 19.0]            1        1            2          1  Miss  \n",
       "888    (40.0, 80.0]            4        0          150          0  Miss  \n",
       "889    (25.0, 32.0]            1        1            1          1    Mr  \n",
       "890    (25.0, 32.0]            1        1           94          0    Mr  \n",
       "\n",
       "[891 rows x 19 columns]"
      ]
     },
     "execution_count": 37,
     "metadata": {},
     "output_type": "execute_result"
    }
   ],
   "source": [
    "dataset[0]"
   ]
  },
  {
   "cell_type": "code",
   "execution_count": 38,
   "id": "4a07f33a",
   "metadata": {
    "execution": {
     "iopub.execute_input": "2021-09-28T21:04:32.691039Z",
     "iopub.status.busy": "2021-09-28T21:04:32.690023Z",
     "iopub.status.idle": "2021-09-28T21:04:32.692163Z",
     "shell.execute_reply": "2021-09-28T21:04:32.693363Z",
     "shell.execute_reply.started": "2021-09-28T20:57:48.616927Z"
    },
    "papermill": {
     "duration": 0.068316,
     "end_time": "2021-09-28T21:04:32.693639",
     "exception": false,
     "start_time": "2021-09-28T21:04:32.625323",
     "status": "completed"
    },
    "tags": []
   },
   "outputs": [],
   "source": [
    "title_mapping={\"Mr\":1,\"Mrs\":2,\"Miss\":3,\"Master\":4,\"Rare\":5}"
   ]
  },
  {
   "cell_type": "code",
   "execution_count": 39,
   "id": "e2fd34b7",
   "metadata": {
    "execution": {
     "iopub.execute_input": "2021-09-28T21:04:32.838374Z",
     "iopub.status.busy": "2021-09-28T21:04:32.835813Z",
     "iopub.status.idle": "2021-09-28T21:04:32.840253Z",
     "shell.execute_reply": "2021-09-28T21:04:32.841081Z",
     "shell.execute_reply.started": "2021-09-28T20:57:48.861956Z"
    },
    "papermill": {
     "duration": 0.071404,
     "end_time": "2021-09-28T21:04:32.841404",
     "exception": false,
     "start_time": "2021-09-28T21:04:32.770000",
     "status": "completed"
    },
    "tags": []
   },
   "outputs": [],
   "source": [
    "for data in dataset:\n",
    "    data['title']=data[\"title\"].map(title_mapping)"
   ]
  },
  {
   "cell_type": "code",
   "execution_count": 40,
   "id": "1b4d611e",
   "metadata": {
    "execution": {
     "iopub.execute_input": "2021-09-28T21:04:32.974180Z",
     "iopub.status.busy": "2021-09-28T21:04:32.973040Z",
     "iopub.status.idle": "2021-09-28T21:04:32.992667Z",
     "shell.execute_reply": "2021-09-28T21:04:32.993428Z",
     "shell.execute_reply.started": "2021-09-28T20:57:51.238282Z"
    },
    "papermill": {
     "duration": 0.081431,
     "end_time": "2021-09-28T21:04:32.993704",
     "exception": false,
     "start_time": "2021-09-28T21:04:32.912273",
     "status": "completed"
    },
    "tags": []
   },
   "outputs": [
    {
     "data": {
      "text/html": [
       "<div>\n",
       "<style scoped>\n",
       "    .dataframe tbody tr th:only-of-type {\n",
       "        vertical-align: middle;\n",
       "    }\n",
       "\n",
       "    .dataframe tbody tr th {\n",
       "        vertical-align: top;\n",
       "    }\n",
       "\n",
       "    .dataframe thead th {\n",
       "        text-align: right;\n",
       "    }\n",
       "</style>\n",
       "<table border=\"1\" class=\"dataframe\">\n",
       "  <thead>\n",
       "    <tr style=\"text-align: right;\">\n",
       "      <th></th>\n",
       "      <th>PassengerId</th>\n",
       "      <th>Pclass</th>\n",
       "      <th>Name</th>\n",
       "      <th>Sex</th>\n",
       "      <th>Age</th>\n",
       "      <th>SibSp</th>\n",
       "      <th>Parch</th>\n",
       "      <th>Ticket</th>\n",
       "      <th>Fare</th>\n",
       "      <th>Cabin</th>\n",
       "      <th>Embarked</th>\n",
       "      <th>Family_size</th>\n",
       "      <th>IsAlone</th>\n",
       "      <th>ticket_type</th>\n",
       "      <th>Has_Cabin</th>\n",
       "      <th>title</th>\n",
       "    </tr>\n",
       "  </thead>\n",
       "  <tbody>\n",
       "    <tr>\n",
       "      <th>0</th>\n",
       "      <td>892</td>\n",
       "      <td>3</td>\n",
       "      <td>Kelly, Mr. James</td>\n",
       "      <td>1</td>\n",
       "      <td>3</td>\n",
       "      <td>0</td>\n",
       "      <td>0</td>\n",
       "      <td>330911</td>\n",
       "      <td>0</td>\n",
       "      <td>NaN</td>\n",
       "      <td>Q</td>\n",
       "      <td>1</td>\n",
       "      <td>1</td>\n",
       "      <td>58</td>\n",
       "      <td>0</td>\n",
       "      <td>1</td>\n",
       "    </tr>\n",
       "    <tr>\n",
       "      <th>1</th>\n",
       "      <td>893</td>\n",
       "      <td>3</td>\n",
       "      <td>Wilkes, Mrs. James (Ellen Needs)</td>\n",
       "      <td>0</td>\n",
       "      <td>4</td>\n",
       "      <td>1</td>\n",
       "      <td>0</td>\n",
       "      <td>363272</td>\n",
       "      <td>0</td>\n",
       "      <td>NaN</td>\n",
       "      <td>S</td>\n",
       "      <td>2</td>\n",
       "      <td>0</td>\n",
       "      <td>71</td>\n",
       "      <td>1</td>\n",
       "      <td>2</td>\n",
       "    </tr>\n",
       "    <tr>\n",
       "      <th>2</th>\n",
       "      <td>894</td>\n",
       "      <td>2</td>\n",
       "      <td>Myles, Mr. Thomas Francis</td>\n",
       "      <td>1</td>\n",
       "      <td>4</td>\n",
       "      <td>0</td>\n",
       "      <td>0</td>\n",
       "      <td>240276</td>\n",
       "      <td>1</td>\n",
       "      <td>NaN</td>\n",
       "      <td>Q</td>\n",
       "      <td>1</td>\n",
       "      <td>1</td>\n",
       "      <td>32</td>\n",
       "      <td>0</td>\n",
       "      <td>1</td>\n",
       "    </tr>\n",
       "    <tr>\n",
       "      <th>3</th>\n",
       "      <td>895</td>\n",
       "      <td>3</td>\n",
       "      <td>Wirz, Mr. Albert</td>\n",
       "      <td>1</td>\n",
       "      <td>2</td>\n",
       "      <td>0</td>\n",
       "      <td>0</td>\n",
       "      <td>315154</td>\n",
       "      <td>1</td>\n",
       "      <td>NaN</td>\n",
       "      <td>S</td>\n",
       "      <td>1</td>\n",
       "      <td>1</td>\n",
       "      <td>55</td>\n",
       "      <td>1</td>\n",
       "      <td>1</td>\n",
       "    </tr>\n",
       "    <tr>\n",
       "      <th>4</th>\n",
       "      <td>896</td>\n",
       "      <td>3</td>\n",
       "      <td>Hirvonen, Mrs. Alexander (Helga E Lindqvist)</td>\n",
       "      <td>0</td>\n",
       "      <td>1</td>\n",
       "      <td>1</td>\n",
       "      <td>1</td>\n",
       "      <td>3101298</td>\n",
       "      <td>1</td>\n",
       "      <td>NaN</td>\n",
       "      <td>S</td>\n",
       "      <td>3</td>\n",
       "      <td>0</td>\n",
       "      <td>54</td>\n",
       "      <td>0</td>\n",
       "      <td>2</td>\n",
       "    </tr>\n",
       "    <tr>\n",
       "      <th>...</th>\n",
       "      <td>...</td>\n",
       "      <td>...</td>\n",
       "      <td>...</td>\n",
       "      <td>...</td>\n",
       "      <td>...</td>\n",
       "      <td>...</td>\n",
       "      <td>...</td>\n",
       "      <td>...</td>\n",
       "      <td>...</td>\n",
       "      <td>...</td>\n",
       "      <td>...</td>\n",
       "      <td>...</td>\n",
       "      <td>...</td>\n",
       "      <td>...</td>\n",
       "      <td>...</td>\n",
       "      <td>...</td>\n",
       "    </tr>\n",
       "    <tr>\n",
       "      <th>413</th>\n",
       "      <td>1305</td>\n",
       "      <td>3</td>\n",
       "      <td>Spector, Mr. Woolf</td>\n",
       "      <td>1</td>\n",
       "      <td>1</td>\n",
       "      <td>0</td>\n",
       "      <td>0</td>\n",
       "      <td>A.5. 3236</td>\n",
       "      <td>1</td>\n",
       "      <td>NaN</td>\n",
       "      <td>S</td>\n",
       "      <td>1</td>\n",
       "      <td>1</td>\n",
       "      <td>96</td>\n",
       "      <td>0</td>\n",
       "      <td>1</td>\n",
       "    </tr>\n",
       "    <tr>\n",
       "      <th>414</th>\n",
       "      <td>1306</td>\n",
       "      <td>1</td>\n",
       "      <td>Oliva y Ocana, Dona. Fermina</td>\n",
       "      <td>0</td>\n",
       "      <td>3</td>\n",
       "      <td>0</td>\n",
       "      <td>0</td>\n",
       "      <td>PC 17758</td>\n",
       "      <td>3</td>\n",
       "      <td>C105</td>\n",
       "      <td>C</td>\n",
       "      <td>1</td>\n",
       "      <td>1</td>\n",
       "      <td>107</td>\n",
       "      <td>0</td>\n",
       "      <td>5</td>\n",
       "    </tr>\n",
       "    <tr>\n",
       "      <th>415</th>\n",
       "      <td>1307</td>\n",
       "      <td>3</td>\n",
       "      <td>Saether, Mr. Simon Sivertsen</td>\n",
       "      <td>1</td>\n",
       "      <td>3</td>\n",
       "      <td>0</td>\n",
       "      <td>0</td>\n",
       "      <td>SOTON/O.Q. 3101262</td>\n",
       "      <td>0</td>\n",
       "      <td>NaN</td>\n",
       "      <td>S</td>\n",
       "      <td>1</td>\n",
       "      <td>1</td>\n",
       "      <td>113</td>\n",
       "      <td>0</td>\n",
       "      <td>1</td>\n",
       "    </tr>\n",
       "    <tr>\n",
       "      <th>416</th>\n",
       "      <td>1308</td>\n",
       "      <td>3</td>\n",
       "      <td>Ware, Mr. Frederick</td>\n",
       "      <td>1</td>\n",
       "      <td>1</td>\n",
       "      <td>0</td>\n",
       "      <td>0</td>\n",
       "      <td>359309</td>\n",
       "      <td>1</td>\n",
       "      <td>NaN</td>\n",
       "      <td>S</td>\n",
       "      <td>1</td>\n",
       "      <td>1</td>\n",
       "      <td>70</td>\n",
       "      <td>0</td>\n",
       "      <td>1</td>\n",
       "    </tr>\n",
       "    <tr>\n",
       "      <th>417</th>\n",
       "      <td>1309</td>\n",
       "      <td>3</td>\n",
       "      <td>Peter, Master. Michael J</td>\n",
       "      <td>1</td>\n",
       "      <td>0</td>\n",
       "      <td>1</td>\n",
       "      <td>1</td>\n",
       "      <td>2668</td>\n",
       "      <td>2</td>\n",
       "      <td>NaN</td>\n",
       "      <td>C</td>\n",
       "      <td>3</td>\n",
       "      <td>0</td>\n",
       "      <td>42</td>\n",
       "      <td>0</td>\n",
       "      <td>4</td>\n",
       "    </tr>\n",
       "  </tbody>\n",
       "</table>\n",
       "<p>418 rows × 16 columns</p>\n",
       "</div>"
      ],
      "text/plain": [
       "     PassengerId  Pclass                                          Name  Sex  \\\n",
       "0            892       3                              Kelly, Mr. James    1   \n",
       "1            893       3              Wilkes, Mrs. James (Ellen Needs)    0   \n",
       "2            894       2                     Myles, Mr. Thomas Francis    1   \n",
       "3            895       3                              Wirz, Mr. Albert    1   \n",
       "4            896       3  Hirvonen, Mrs. Alexander (Helga E Lindqvist)    0   \n",
       "..           ...     ...                                           ...  ...   \n",
       "413         1305       3                            Spector, Mr. Woolf    1   \n",
       "414         1306       1                  Oliva y Ocana, Dona. Fermina    0   \n",
       "415         1307       3                  Saether, Mr. Simon Sivertsen    1   \n",
       "416         1308       3                           Ware, Mr. Frederick    1   \n",
       "417         1309       3                      Peter, Master. Michael J    1   \n",
       "\n",
       "     Age  SibSp  Parch              Ticket  Fare Cabin Embarked  Family_size  \\\n",
       "0      3      0      0              330911     0   NaN        Q            1   \n",
       "1      4      1      0              363272     0   NaN        S            2   \n",
       "2      4      0      0              240276     1   NaN        Q            1   \n",
       "3      2      0      0              315154     1   NaN        S            1   \n",
       "4      1      1      1             3101298     1   NaN        S            3   \n",
       "..   ...    ...    ...                 ...   ...   ...      ...          ...   \n",
       "413    1      0      0           A.5. 3236     1   NaN        S            1   \n",
       "414    3      0      0            PC 17758     3  C105        C            1   \n",
       "415    3      0      0  SOTON/O.Q. 3101262     0   NaN        S            1   \n",
       "416    1      0      0              359309     1   NaN        S            1   \n",
       "417    0      1      1                2668     2   NaN        C            3   \n",
       "\n",
       "     IsAlone  ticket_type  Has_Cabin  title  \n",
       "0          1           58          0      1  \n",
       "1          0           71          1      2  \n",
       "2          1           32          0      1  \n",
       "3          1           55          1      1  \n",
       "4          0           54          0      2  \n",
       "..       ...          ...        ...    ...  \n",
       "413        1           96          0      1  \n",
       "414        1          107          0      5  \n",
       "415        1          113          0      1  \n",
       "416        1           70          0      1  \n",
       "417        0           42          0      4  \n",
       "\n",
       "[418 rows x 16 columns]"
      ]
     },
     "execution_count": 40,
     "metadata": {},
     "output_type": "execute_result"
    }
   ],
   "source": [
    "dataset[1]"
   ]
  },
  {
   "cell_type": "markdown",
   "id": "00faf30a",
   "metadata": {
    "papermill": {
     "duration": 0.052415,
     "end_time": "2021-09-28T21:04:33.114423",
     "exception": false,
     "start_time": "2021-09-28T21:04:33.062008",
     "status": "completed"
    },
    "tags": []
   },
   "source": [
    "> **Now we will be dropping the useless feature**"
   ]
  },
  {
   "cell_type": "code",
   "execution_count": 41,
   "id": "677f351f",
   "metadata": {
    "execution": {
     "iopub.execute_input": "2021-09-28T21:04:33.222526Z",
     "iopub.status.busy": "2021-09-28T21:04:33.221625Z",
     "iopub.status.idle": "2021-09-28T21:04:33.225687Z",
     "shell.execute_reply": "2021-09-28T21:04:33.226197Z",
     "shell.execute_reply.started": "2021-09-28T20:58:46.848547Z"
    },
    "papermill": {
     "duration": 0.059845,
     "end_time": "2021-09-28T21:04:33.226358",
     "exception": false,
     "start_time": "2021-09-28T21:04:33.166513",
     "status": "completed"
    },
    "tags": []
   },
   "outputs": [],
   "source": [
    "useless_feature=[\"Name\",\"Ticket\",\"Cabin\"]"
   ]
  },
  {
   "cell_type": "code",
   "execution_count": 42,
   "id": "2ec2ef32",
   "metadata": {
    "execution": {
     "iopub.execute_input": "2021-09-28T21:04:33.343632Z",
     "iopub.status.busy": "2021-09-28T21:04:33.342645Z",
     "iopub.status.idle": "2021-09-28T21:04:33.352208Z",
     "shell.execute_reply": "2021-09-28T21:04:33.352735Z",
     "shell.execute_reply.started": "2021-09-28T20:58:48.812127Z"
    },
    "papermill": {
     "duration": 0.073477,
     "end_time": "2021-09-28T21:04:33.352970",
     "exception": false,
     "start_time": "2021-09-28T21:04:33.279493",
     "status": "completed"
    },
    "tags": []
   },
   "outputs": [],
   "source": [
    "for data in dataset:\n",
    "    data.drop(useless_feature,axis=1,inplace=True)"
   ]
  },
  {
   "cell_type": "code",
   "execution_count": 43,
   "id": "b0a1a7fd",
   "metadata": {
    "execution": {
     "iopub.execute_input": "2021-09-28T21:04:33.471612Z",
     "iopub.status.busy": "2021-09-28T21:04:33.470631Z",
     "iopub.status.idle": "2021-09-28T21:04:33.476406Z",
     "shell.execute_reply": "2021-09-28T21:04:33.476977Z",
     "shell.execute_reply.started": "2021-09-28T20:58:34.570674Z"
    },
    "papermill": {
     "duration": 0.067112,
     "end_time": "2021-09-28T21:04:33.477180",
     "exception": false,
     "start_time": "2021-09-28T21:04:33.410068",
     "status": "completed"
    },
    "tags": []
   },
   "outputs": [],
   "source": [
    "train.drop([\"PassengerId\",\"Category_feature\",\"Category_age\"],axis=1,inplace=True)\n"
   ]
  },
  {
   "cell_type": "code",
   "execution_count": 44,
   "id": "967c9851",
   "metadata": {
    "execution": {
     "iopub.execute_input": "2021-09-28T21:04:33.604693Z",
     "iopub.status.busy": "2021-09-28T21:04:33.603736Z",
     "iopub.status.idle": "2021-09-28T21:04:33.607591Z",
     "shell.execute_reply": "2021-09-28T21:04:33.607125Z",
     "shell.execute_reply.started": "2021-09-28T21:00:13.135687Z"
    },
    "papermill": {
     "duration": 0.073769,
     "end_time": "2021-09-28T21:04:33.607745",
     "exception": false,
     "start_time": "2021-09-28T21:04:33.533976",
     "status": "completed"
    },
    "tags": []
   },
   "outputs": [],
   "source": [
    "for data in dataset:\n",
    "    data[\"Embarked\"]=data[\"Embarked\"].map({\"S\":1,\"Q\":2,\"C\":3})"
   ]
  },
  {
   "cell_type": "code",
   "execution_count": 45,
   "id": "05a06ce6",
   "metadata": {
    "execution": {
     "iopub.execute_input": "2021-09-28T21:04:33.728289Z",
     "iopub.status.busy": "2021-09-28T21:04:33.727656Z",
     "iopub.status.idle": "2021-09-28T21:04:33.743988Z",
     "shell.execute_reply": "2021-09-28T21:04:33.744422Z",
     "shell.execute_reply.started": "2021-09-28T21:00:22.968527Z"
    },
    "papermill": {
     "duration": 0.079875,
     "end_time": "2021-09-28T21:04:33.744636",
     "exception": false,
     "start_time": "2021-09-28T21:04:33.664761",
     "status": "completed"
    },
    "tags": []
   },
   "outputs": [
    {
     "data": {
      "text/html": [
       "<div>\n",
       "<style scoped>\n",
       "    .dataframe tbody tr th:only-of-type {\n",
       "        vertical-align: middle;\n",
       "    }\n",
       "\n",
       "    .dataframe tbody tr th {\n",
       "        vertical-align: top;\n",
       "    }\n",
       "\n",
       "    .dataframe thead th {\n",
       "        text-align: right;\n",
       "    }\n",
       "</style>\n",
       "<table border=\"1\" class=\"dataframe\">\n",
       "  <thead>\n",
       "    <tr style=\"text-align: right;\">\n",
       "      <th></th>\n",
       "      <th>PassengerId</th>\n",
       "      <th>Pclass</th>\n",
       "      <th>Sex</th>\n",
       "      <th>Age</th>\n",
       "      <th>SibSp</th>\n",
       "      <th>Parch</th>\n",
       "      <th>Fare</th>\n",
       "      <th>Embarked</th>\n",
       "      <th>Family_size</th>\n",
       "      <th>IsAlone</th>\n",
       "      <th>ticket_type</th>\n",
       "      <th>Has_Cabin</th>\n",
       "      <th>title</th>\n",
       "    </tr>\n",
       "  </thead>\n",
       "  <tbody>\n",
       "    <tr>\n",
       "      <th>0</th>\n",
       "      <td>892</td>\n",
       "      <td>3</td>\n",
       "      <td>1</td>\n",
       "      <td>3</td>\n",
       "      <td>0</td>\n",
       "      <td>0</td>\n",
       "      <td>0</td>\n",
       "      <td>2</td>\n",
       "      <td>1</td>\n",
       "      <td>1</td>\n",
       "      <td>58</td>\n",
       "      <td>0</td>\n",
       "      <td>1</td>\n",
       "    </tr>\n",
       "    <tr>\n",
       "      <th>1</th>\n",
       "      <td>893</td>\n",
       "      <td>3</td>\n",
       "      <td>0</td>\n",
       "      <td>4</td>\n",
       "      <td>1</td>\n",
       "      <td>0</td>\n",
       "      <td>0</td>\n",
       "      <td>1</td>\n",
       "      <td>2</td>\n",
       "      <td>0</td>\n",
       "      <td>71</td>\n",
       "      <td>1</td>\n",
       "      <td>2</td>\n",
       "    </tr>\n",
       "    <tr>\n",
       "      <th>2</th>\n",
       "      <td>894</td>\n",
       "      <td>2</td>\n",
       "      <td>1</td>\n",
       "      <td>4</td>\n",
       "      <td>0</td>\n",
       "      <td>0</td>\n",
       "      <td>1</td>\n",
       "      <td>2</td>\n",
       "      <td>1</td>\n",
       "      <td>1</td>\n",
       "      <td>32</td>\n",
       "      <td>0</td>\n",
       "      <td>1</td>\n",
       "    </tr>\n",
       "    <tr>\n",
       "      <th>3</th>\n",
       "      <td>895</td>\n",
       "      <td>3</td>\n",
       "      <td>1</td>\n",
       "      <td>2</td>\n",
       "      <td>0</td>\n",
       "      <td>0</td>\n",
       "      <td>1</td>\n",
       "      <td>1</td>\n",
       "      <td>1</td>\n",
       "      <td>1</td>\n",
       "      <td>55</td>\n",
       "      <td>1</td>\n",
       "      <td>1</td>\n",
       "    </tr>\n",
       "    <tr>\n",
       "      <th>4</th>\n",
       "      <td>896</td>\n",
       "      <td>3</td>\n",
       "      <td>0</td>\n",
       "      <td>1</td>\n",
       "      <td>1</td>\n",
       "      <td>1</td>\n",
       "      <td>1</td>\n",
       "      <td>1</td>\n",
       "      <td>3</td>\n",
       "      <td>0</td>\n",
       "      <td>54</td>\n",
       "      <td>0</td>\n",
       "      <td>2</td>\n",
       "    </tr>\n",
       "    <tr>\n",
       "      <th>...</th>\n",
       "      <td>...</td>\n",
       "      <td>...</td>\n",
       "      <td>...</td>\n",
       "      <td>...</td>\n",
       "      <td>...</td>\n",
       "      <td>...</td>\n",
       "      <td>...</td>\n",
       "      <td>...</td>\n",
       "      <td>...</td>\n",
       "      <td>...</td>\n",
       "      <td>...</td>\n",
       "      <td>...</td>\n",
       "      <td>...</td>\n",
       "    </tr>\n",
       "    <tr>\n",
       "      <th>413</th>\n",
       "      <td>1305</td>\n",
       "      <td>3</td>\n",
       "      <td>1</td>\n",
       "      <td>1</td>\n",
       "      <td>0</td>\n",
       "      <td>0</td>\n",
       "      <td>1</td>\n",
       "      <td>1</td>\n",
       "      <td>1</td>\n",
       "      <td>1</td>\n",
       "      <td>96</td>\n",
       "      <td>0</td>\n",
       "      <td>1</td>\n",
       "    </tr>\n",
       "    <tr>\n",
       "      <th>414</th>\n",
       "      <td>1306</td>\n",
       "      <td>1</td>\n",
       "      <td>0</td>\n",
       "      <td>3</td>\n",
       "      <td>0</td>\n",
       "      <td>0</td>\n",
       "      <td>3</td>\n",
       "      <td>3</td>\n",
       "      <td>1</td>\n",
       "      <td>1</td>\n",
       "      <td>107</td>\n",
       "      <td>0</td>\n",
       "      <td>5</td>\n",
       "    </tr>\n",
       "    <tr>\n",
       "      <th>415</th>\n",
       "      <td>1307</td>\n",
       "      <td>3</td>\n",
       "      <td>1</td>\n",
       "      <td>3</td>\n",
       "      <td>0</td>\n",
       "      <td>0</td>\n",
       "      <td>0</td>\n",
       "      <td>1</td>\n",
       "      <td>1</td>\n",
       "      <td>1</td>\n",
       "      <td>113</td>\n",
       "      <td>0</td>\n",
       "      <td>1</td>\n",
       "    </tr>\n",
       "    <tr>\n",
       "      <th>416</th>\n",
       "      <td>1308</td>\n",
       "      <td>3</td>\n",
       "      <td>1</td>\n",
       "      <td>1</td>\n",
       "      <td>0</td>\n",
       "      <td>0</td>\n",
       "      <td>1</td>\n",
       "      <td>1</td>\n",
       "      <td>1</td>\n",
       "      <td>1</td>\n",
       "      <td>70</td>\n",
       "      <td>0</td>\n",
       "      <td>1</td>\n",
       "    </tr>\n",
       "    <tr>\n",
       "      <th>417</th>\n",
       "      <td>1309</td>\n",
       "      <td>3</td>\n",
       "      <td>1</td>\n",
       "      <td>0</td>\n",
       "      <td>1</td>\n",
       "      <td>1</td>\n",
       "      <td>2</td>\n",
       "      <td>3</td>\n",
       "      <td>3</td>\n",
       "      <td>0</td>\n",
       "      <td>42</td>\n",
       "      <td>0</td>\n",
       "      <td>4</td>\n",
       "    </tr>\n",
       "  </tbody>\n",
       "</table>\n",
       "<p>418 rows × 13 columns</p>\n",
       "</div>"
      ],
      "text/plain": [
       "     PassengerId  Pclass  Sex  Age  SibSp  Parch  Fare  Embarked  Family_size  \\\n",
       "0            892       3    1    3      0      0     0         2            1   \n",
       "1            893       3    0    4      1      0     0         1            2   \n",
       "2            894       2    1    4      0      0     1         2            1   \n",
       "3            895       3    1    2      0      0     1         1            1   \n",
       "4            896       3    0    1      1      1     1         1            3   \n",
       "..           ...     ...  ...  ...    ...    ...   ...       ...          ...   \n",
       "413         1305       3    1    1      0      0     1         1            1   \n",
       "414         1306       1    0    3      0      0     3         3            1   \n",
       "415         1307       3    1    3      0      0     0         1            1   \n",
       "416         1308       3    1    1      0      0     1         1            1   \n",
       "417         1309       3    1    0      1      1     2         3            3   \n",
       "\n",
       "     IsAlone  ticket_type  Has_Cabin  title  \n",
       "0          1           58          0      1  \n",
       "1          0           71          1      2  \n",
       "2          1           32          0      1  \n",
       "3          1           55          1      1  \n",
       "4          0           54          0      2  \n",
       "..       ...          ...        ...    ...  \n",
       "413        1           96          0      1  \n",
       "414        1          107          0      5  \n",
       "415        1          113          0      1  \n",
       "416        1           70          0      1  \n",
       "417        0           42          0      4  \n",
       "\n",
       "[418 rows x 13 columns]"
      ]
     },
     "execution_count": 45,
     "metadata": {},
     "output_type": "execute_result"
    }
   ],
   "source": [
    "dataset[1]"
   ]
  },
  {
   "cell_type": "markdown",
   "id": "f8ef689e",
   "metadata": {
    "papermill": {
     "duration": 0.053641,
     "end_time": "2021-09-28T21:04:33.851608",
     "exception": false,
     "start_time": "2021-09-28T21:04:33.797967",
     "status": "completed"
    },
    "tags": []
   },
   "source": [
    "# **ML MODEL**"
   ]
  },
  {
   "cell_type": "code",
   "execution_count": 46,
   "id": "866b8d64",
   "metadata": {
    "execution": {
     "iopub.execute_input": "2021-09-28T21:04:33.963533Z",
     "iopub.status.busy": "2021-09-28T21:04:33.962817Z",
     "iopub.status.idle": "2021-09-28T21:04:34.234331Z",
     "shell.execute_reply": "2021-09-28T21:04:34.233618Z",
     "shell.execute_reply.started": "2021-09-28T14:11:04.271312Z"
    },
    "papermill": {
     "duration": 0.330047,
     "end_time": "2021-09-28T21:04:34.234506",
     "exception": false,
     "start_time": "2021-09-28T21:04:33.904459",
     "status": "completed"
    },
    "tags": []
   },
   "outputs": [],
   "source": [
    "import xgboost \n",
    "from sklearn.model_selection import RandomizedSearchCV , GridSearchCV"
   ]
  },
  {
   "cell_type": "code",
   "execution_count": 47,
   "id": "f5cffa21",
   "metadata": {
    "execution": {
     "iopub.execute_input": "2021-09-28T21:04:34.354061Z",
     "iopub.status.busy": "2021-09-28T21:04:34.353323Z",
     "iopub.status.idle": "2021-09-28T21:04:34.356914Z",
     "shell.execute_reply": "2021-09-28T21:04:34.356399Z",
     "shell.execute_reply.started": "2021-09-28T14:11:04.503803Z"
    },
    "papermill": {
     "duration": 0.064727,
     "end_time": "2021-09-28T21:04:34.357082",
     "exception": false,
     "start_time": "2021-09-28T21:04:34.292355",
     "status": "completed"
    },
    "tags": []
   },
   "outputs": [],
   "source": [
    "classifer=xgboost.XGBClassifier(\n",
    "objective= 'binary:logistic',\n",
    "max_depth= 4,\n",
    "gamma=0.9\n",
    ")"
   ]
  },
  {
   "cell_type": "code",
   "execution_count": 48,
   "id": "ec03c307",
   "metadata": {
    "execution": {
     "iopub.execute_input": "2021-09-28T21:04:34.481204Z",
     "iopub.status.busy": "2021-09-28T21:04:34.479958Z",
     "iopub.status.idle": "2021-09-28T21:04:34.483317Z",
     "shell.execute_reply": "2021-09-28T21:04:34.482658Z",
     "shell.execute_reply.started": "2021-09-28T14:11:04.524224Z"
    },
    "papermill": {
     "duration": 0.067772,
     "end_time": "2021-09-28T21:04:34.483482",
     "exception": false,
     "start_time": "2021-09-28T21:04:34.415710",
     "status": "completed"
    },
    "tags": []
   },
   "outputs": [],
   "source": [
    "X=train.drop(\"Survived\",axis=1)"
   ]
  },
  {
   "cell_type": "code",
   "execution_count": 49,
   "id": "cd758038",
   "metadata": {
    "execution": {
     "iopub.execute_input": "2021-09-28T21:04:34.606343Z",
     "iopub.status.busy": "2021-09-28T21:04:34.605269Z",
     "iopub.status.idle": "2021-09-28T21:04:34.609541Z",
     "shell.execute_reply": "2021-09-28T21:04:34.610235Z",
     "shell.execute_reply.started": "2021-09-28T14:11:04.535632Z"
    },
    "papermill": {
     "duration": 0.0703,
     "end_time": "2021-09-28T21:04:34.610518",
     "exception": false,
     "start_time": "2021-09-28T21:04:34.540218",
     "status": "completed"
    },
    "tags": []
   },
   "outputs": [],
   "source": [
    "y=train[\"Survived\"].ravel()"
   ]
  },
  {
   "cell_type": "code",
   "execution_count": 50,
   "id": "9572273f",
   "metadata": {
    "execution": {
     "iopub.execute_input": "2021-09-28T21:04:34.756624Z",
     "iopub.status.busy": "2021-09-28T21:04:34.755532Z",
     "iopub.status.idle": "2021-09-28T21:04:34.762134Z",
     "shell.execute_reply": "2021-09-28T21:04:34.762611Z",
     "shell.execute_reply.started": "2021-09-28T14:11:04.543927Z"
    },
    "papermill": {
     "duration": 0.077262,
     "end_time": "2021-09-28T21:04:34.762803",
     "exception": false,
     "start_time": "2021-09-28T21:04:34.685541",
     "status": "completed"
    },
    "tags": []
   },
   "outputs": [],
   "source": [
    "test1=test.drop(\"PassengerId\",axis=1)"
   ]
  },
  {
   "cell_type": "code",
   "execution_count": 51,
   "id": "d17e9f3e",
   "metadata": {
    "execution": {
     "iopub.execute_input": "2021-09-28T21:04:34.875255Z",
     "iopub.status.busy": "2021-09-28T21:04:34.873105Z",
     "iopub.status.idle": "2021-09-28T21:04:34.987850Z",
     "shell.execute_reply": "2021-09-28T21:04:34.987368Z",
     "shell.execute_reply.started": "2021-09-28T14:11:04.55452Z"
    },
    "papermill": {
     "duration": 0.171637,
     "end_time": "2021-09-28T21:04:34.988011",
     "exception": false,
     "start_time": "2021-09-28T21:04:34.816374",
     "status": "completed"
    },
    "tags": []
   },
   "outputs": [
    {
     "name": "stdout",
     "output_type": "stream",
     "text": [
      "[21:04:34] WARNING: ../src/learner.cc:1095: Starting in XGBoost 1.3.0, the default evaluation metric used with the objective 'binary:logistic' was changed from 'error' to 'logloss'. Explicitly set eval_metric if you'd like to restore the old behavior.\n"
     ]
    },
    {
     "name": "stderr",
     "output_type": "stream",
     "text": [
      "/opt/conda/lib/python3.7/site-packages/xgboost/sklearn.py:1146: UserWarning: The use of label encoder in XGBClassifier is deprecated and will be removed in a future release. To remove this warning, do the following: 1) Pass option use_label_encoder=False when constructing XGBClassifier object; and 2) Encode your labels (y) as integers starting with 0, i.e. 0, 1, 2, ..., [num_class - 1].\n",
      "  warnings.warn(label_encoder_deprecation_msg, UserWarning)\n"
     ]
    },
    {
     "data": {
      "text/plain": [
       "XGBClassifier(base_score=0.5, booster='gbtree', colsample_bylevel=1,\n",
       "              colsample_bynode=1, colsample_bytree=1, gamma=0.9, gpu_id=-1,\n",
       "              importance_type='gain', interaction_constraints='',\n",
       "              learning_rate=0.300000012, max_delta_step=0, max_depth=4,\n",
       "              min_child_weight=1, missing=nan, monotone_constraints='()',\n",
       "              n_estimators=100, n_jobs=4, num_parallel_tree=1, random_state=0,\n",
       "              reg_alpha=0, reg_lambda=1, scale_pos_weight=1, subsample=1,\n",
       "              tree_method='exact', validate_parameters=1, verbosity=None)"
      ]
     },
     "execution_count": 51,
     "metadata": {},
     "output_type": "execute_result"
    }
   ],
   "source": [
    "classifer.fit(X,y)"
   ]
  },
  {
   "cell_type": "code",
   "execution_count": 52,
   "id": "80fc74db",
   "metadata": {
    "execution": {
     "iopub.execute_input": "2021-09-28T21:04:35.100660Z",
     "iopub.status.busy": "2021-09-28T21:04:35.100088Z",
     "iopub.status.idle": "2021-09-28T21:04:35.110565Z",
     "shell.execute_reply": "2021-09-28T21:04:35.110077Z",
     "shell.execute_reply.started": "2021-09-28T14:11:04.647551Z"
    },
    "papermill": {
     "duration": 0.069504,
     "end_time": "2021-09-28T21:04:35.110715",
     "exception": false,
     "start_time": "2021-09-28T21:04:35.041211",
     "status": "completed"
    },
    "tags": []
   },
   "outputs": [
    {
     "data": {
      "text/plain": [
       "array([0, 1, 0, 0, 0, 0, 1, 0, 1, 0, 0, 0, 1, 0, 1, 1, 0, 0, 0, 1, 0, 1,\n",
       "       1, 0, 1, 0, 1, 0, 0, 0, 0, 0, 1, 0, 1, 0, 0, 0, 0, 1, 0, 0, 0, 1,\n",
       "       1, 0, 0, 0, 1, 1, 0, 0, 1, 1, 0, 0, 0, 0, 0, 1, 0, 0, 0, 1, 1, 1,\n",
       "       1, 0, 0, 1, 1, 0, 0, 0, 1, 0, 0, 1, 0, 1, 1, 0, 0, 0, 0, 0, 1, 1,\n",
       "       1, 1, 0, 0, 1, 0, 1, 0, 1, 0, 1, 0, 1, 0, 0, 0, 1, 0, 0, 0, 0, 0,\n",
       "       0, 1, 1, 1, 1, 0, 0, 0, 1, 1, 1, 0, 1, 0, 0, 1, 0, 0, 0, 0, 0, 0,\n",
       "       0, 0, 0, 0, 0, 0, 0, 0, 0, 1, 0, 0, 0, 0, 1, 0, 0, 0, 1, 0, 0, 0,\n",
       "       0, 0, 1, 1, 1, 0, 1, 1, 1, 0, 0, 0, 0, 0, 1, 1, 0, 0, 0, 0, 0, 1,\n",
       "       1, 0, 1, 1, 0, 0, 1, 0, 1, 0, 1, 0, 0, 0, 0, 1, 1, 0, 1, 0, 1, 1,\n",
       "       0, 0, 1, 1, 0, 1, 0, 0, 1, 0, 1, 0, 0, 0, 0, 1, 0, 0, 1, 0, 1, 0,\n",
       "       1, 0, 1, 0, 1, 1, 0, 1, 0, 0, 0, 1, 0, 0, 0, 0, 0, 0, 1, 1, 1, 1,\n",
       "       0, 0, 1, 0, 1, 0, 1, 1, 1, 0, 1, 0, 0, 0, 0, 0, 1, 0, 0, 0, 1, 1,\n",
       "       0, 0, 0, 0, 1, 0, 0, 0, 1, 1, 0, 1, 0, 0, 0, 0, 0, 1, 1, 1, 1, 0,\n",
       "       0, 0, 0, 0, 0, 1, 0, 0, 0, 0, 1, 0, 0, 0, 0, 0, 0, 0, 1, 1, 0, 1,\n",
       "       0, 0, 0, 0, 0, 1, 1, 1, 0, 0, 0, 0, 0, 0, 0, 0, 1, 0, 1, 0, 1, 0,\n",
       "       1, 0, 0, 1, 0, 1, 0, 0, 0, 1, 0, 0, 0, 1, 1, 1, 0, 1, 0, 1, 1, 0,\n",
       "       0, 0, 1, 0, 1, 0, 0, 0, 0, 1, 1, 0, 1, 0, 0, 1, 1, 0, 0, 1, 0, 0,\n",
       "       1, 1, 0, 0, 0, 0, 0, 0, 0, 1, 0, 1, 0, 0, 0, 0, 1, 1, 1, 0, 0, 1,\n",
       "       0, 1, 0, 0, 1, 0, 1, 0, 1, 0, 0, 0, 1, 0, 1, 1, 1, 0, 0, 0, 0, 1])"
      ]
     },
     "execution_count": 52,
     "metadata": {},
     "output_type": "execute_result"
    }
   ],
   "source": [
    "classifer.predict(test1)"
   ]
  },
  {
   "cell_type": "markdown",
   "id": "3bb8c162",
   "metadata": {
    "papermill": {
     "duration": 0.053061,
     "end_time": "2021-09-28T21:04:35.217739",
     "exception": false,
     "start_time": "2021-09-28T21:04:35.164678",
     "status": "completed"
    },
    "tags": []
   },
   "source": [
    "# **SUBMISSION**"
   ]
  },
  {
   "cell_type": "code",
   "execution_count": 53,
   "id": "d20509fe",
   "metadata": {
    "execution": {
     "iopub.execute_input": "2021-09-28T21:04:35.330502Z",
     "iopub.status.busy": "2021-09-28T21:04:35.329793Z",
     "iopub.status.idle": "2021-09-28T21:04:35.332686Z",
     "shell.execute_reply": "2021-09-28T21:04:35.332170Z",
     "shell.execute_reply.started": "2021-09-28T14:11:04.660325Z"
    },
    "papermill": {
     "duration": 0.061509,
     "end_time": "2021-09-28T21:04:35.332850",
     "exception": false,
     "start_time": "2021-09-28T21:04:35.271341",
     "status": "completed"
    },
    "tags": []
   },
   "outputs": [],
   "source": [
    "PassengerId=test[\"PassengerId\"]"
   ]
  },
  {
   "cell_type": "code",
   "execution_count": 54,
   "id": "9b9f9bbb",
   "metadata": {
    "execution": {
     "iopub.execute_input": "2021-09-28T21:04:35.524452Z",
     "iopub.status.busy": "2021-09-28T21:04:35.523606Z",
     "iopub.status.idle": "2021-09-28T21:04:35.540599Z",
     "shell.execute_reply": "2021-09-28T21:04:35.541214Z",
     "shell.execute_reply.started": "2021-09-28T14:11:04.671751Z"
    },
    "papermill": {
     "duration": 0.148683,
     "end_time": "2021-09-28T21:04:35.541429",
     "exception": false,
     "start_time": "2021-09-28T21:04:35.392746",
     "status": "completed"
    },
    "tags": []
   },
   "outputs": [],
   "source": [
    "my_submission=pd.DataFrame({\"PassengerId\":PassengerId,\"Survived\":classifer.predict(test1)})"
   ]
  },
  {
   "cell_type": "code",
   "execution_count": 55,
   "id": "c9507f8d",
   "metadata": {
    "execution": {
     "iopub.execute_input": "2021-09-28T21:04:35.663026Z",
     "iopub.status.busy": "2021-09-28T21:04:35.662342Z",
     "iopub.status.idle": "2021-09-28T21:04:35.670465Z",
     "shell.execute_reply": "2021-09-28T21:04:35.669917Z",
     "shell.execute_reply.started": "2021-09-28T14:11:04.686734Z"
    },
    "papermill": {
     "duration": 0.072375,
     "end_time": "2021-09-28T21:04:35.670638",
     "exception": false,
     "start_time": "2021-09-28T21:04:35.598263",
     "status": "completed"
    },
    "tags": []
   },
   "outputs": [],
   "source": [
    "my_submission.to_csv(\"my_submission.csv\",index=False)"
   ]
  },
  {
   "cell_type": "code",
   "execution_count": null,
   "id": "c7ea221a",
   "metadata": {
    "papermill": {
     "duration": 0.057629,
     "end_time": "2021-09-28T21:04:35.788343",
     "exception": false,
     "start_time": "2021-09-28T21:04:35.730714",
     "status": "completed"
    },
    "tags": []
   },
   "outputs": [],
   "source": []
  }
 ],
 "metadata": {
  "kernelspec": {
   "display_name": "Python 3",
   "language": "python",
   "name": "python3"
  },
  "language_info": {
   "codemirror_mode": {
    "name": "ipython",
    "version": 3
   },
   "file_extension": ".py",
   "mimetype": "text/x-python",
   "name": "python",
   "nbconvert_exporter": "python",
   "pygments_lexer": "ipython3",
   "version": "3.7.10"
  },
  "papermill": {
   "default_parameters": {},
   "duration": 22.557298,
   "end_time": "2021-09-28T21:04:36.462402",
   "environment_variables": {},
   "exception": null,
   "input_path": "__notebook__.ipynb",
   "output_path": "__notebook__.ipynb",
   "parameters": {},
   "start_time": "2021-09-28T21:04:13.905104",
   "version": "2.3.3"
  }
 },
 "nbformat": 4,
 "nbformat_minor": 5
}
